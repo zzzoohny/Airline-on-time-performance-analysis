{
 "cells": [
  {
   "cell_type": "markdown",
   "id": "47849977",
   "metadata": {},
   "source": [
    "## Question5. Use the available variables to construct a model that predict delays."
   ]
  },
  {
   "cell_type": "code",
   "execution_count": 1,
   "id": "8376952d",
   "metadata": {},
   "outputs": [
    {
     "name": "stderr",
     "output_type": "stream",
     "text": [
      "C:\\Users\\juhyu\\Anaconda3\\lib\\site-packages\\IPython\\html.py:12: ShimWarning: The `IPython.html` package has been deprecated since IPython 4.0. You should import from `notebook` instead. `IPython.html.widgets` has moved to `ipywidgets`.\n",
      "  warn(\"The `IPython.html` package has been deprecated since IPython 4.0. \"\n"
     ]
    }
   ],
   "source": [
    "import os\n",
    "import requests\n",
    "import sys\n",
    "import numpy as np\n",
    "import pandas as pd\n",
    "import time\n",
    "import datetime\n",
    "import matplotlib.pyplot as plt\n",
    "import os.path\n",
    "import bz2\n",
    "import csv\n",
    "import seaborn as sns\n",
    "\n",
    "from pyspark.sql import SQLContext\n",
    "from pyspark.sql.types import *\n",
    "from pyspark.sql import Row\n",
    "from pyspark.sql.functions import udf\n",
    "from pyspark.ml.evaluation import RegressionEvaluator\n",
    "from pyspark.ml.feature import OneHotEncoder, StringIndexer\n",
    "from pyspark.ml.feature import VectorAssembler\n",
    "\n",
    "from IPython.display import display\n",
    "from IPython.html.widgets import interact\n",
    "\n",
    "from sklearn import preprocessing\n",
    "from sklearn.neighbors import KNeighborsClassifier\n",
    "from sklearn.ensemble import RandomForestClassifier\n",
    "from sklearn.preprocessing import LabelEncoder\n",
    "from sklearn.preprocessing import StandardScaler\n",
    "from sklearn.datasets import load_iris\n",
    "from sklearn.model_selection import train_test_split, GridSearchCV, RandomizedSearchCV\n",
    "from sklearn.metrics import accuracy_score, confusion_matrix, classification_report, mean_squared_error, plot_confusion_matrix\n",
    "from sklearn.model_selection import StratifiedShuffleSplit\n",
    "\n",
    "%matplotlib inline"
   ]
  },
  {
   "cell_type": "code",
   "execution_count": 2,
   "id": "5597da28",
   "metadata": {},
   "outputs": [
    {
     "name": "stderr",
     "output_type": "stream",
     "text": [
      "C:\\Users\\juhyu\\Anaconda3\\lib\\site-packages\\IPython\\core\\interactiveshell.py:3444: FutureWarning: The error_bad_lines argument has been deprecated and will be removed in a future version.\n",
      "\n",
      "\n",
      "  exec(code_obj, self.user_global_ns, self.user_ns)\n"
     ]
    }
   ],
   "source": [
    "# constant setting\n",
    "os.chdir('C:\\\\Users\\\\juhyu\\\\OneDrive\\\\Desktop\\\\JH\\\\SIM\\\\Year2\\\\Programming for data science\\\\Coursework material\\\\dataverse_files')\n",
    "airline2003=pd.read_csv('2003.csv.bz2', compression='bz2', low_memory=False,error_bad_lines=False,skiprows=lambda x: x%2 ==1)\n",
    "airline2004=pd.read_csv('2004.csv.bz2', compression='bz2', low_memory=False,error_bad_lines=False,skiprows=lambda x: x%2 ==1)\n",
    "airline2005=pd.read_csv('2005.csv.bz2', compression='bz2', low_memory=False,error_bad_lines=False,skiprows=lambda x: x%2 ==1)"
   ]
  },
  {
   "cell_type": "code",
   "execution_count": 3,
   "id": "aedd1ed0",
   "metadata": {},
   "outputs": [],
   "source": [
    "frames=[airline2003,airline2004,airline2005]\n",
    "df=pd.concat(frames)"
   ]
  },
  {
   "cell_type": "code",
   "execution_count": null,
   "id": "a1501942",
   "metadata": {},
   "outputs": [],
   "source": [
    "df1=df"
   ]
  },
  {
   "cell_type": "code",
   "execution_count": 5,
   "id": "9a72dece",
   "metadata": {},
   "outputs": [
    {
     "name": "stdout",
     "output_type": "stream",
     "text": [
      "<class 'pandas.core.frame.DataFrame'>\n",
      "Int64Index: 10379203 entries, 0 to 3570297\n",
      "Data columns (total 29 columns):\n",
      " #   Column             Dtype  \n",
      "---  ------             -----  \n",
      " 0   Year               int64  \n",
      " 1   Month              int64  \n",
      " 2   DayofMonth         int64  \n",
      " 3   DayOfWeek          int64  \n",
      " 4   DepTime            float64\n",
      " 5   CRSDepTime         int64  \n",
      " 6   ArrTime            float64\n",
      " 7   CRSArrTime         int64  \n",
      " 8   UniqueCarrier      object \n",
      " 9   FlightNum          int64  \n",
      " 10  TailNum            object \n",
      " 11  ActualElapsedTime  float64\n",
      " 12  CRSElapsedTime     int64  \n",
      " 13  AirTime            float64\n",
      " 14  ArrDelay           float64\n",
      " 15  DepDelay           float64\n",
      " 16  Origin             object \n",
      " 17  Dest               object \n",
      " 18  Distance           int64  \n",
      " 19  TaxiIn             int64  \n",
      " 20  TaxiOut            int64  \n",
      " 21  Cancelled          int64  \n",
      " 22  CancellationCode   object \n",
      " 23  Diverted           int64  \n",
      " 24  CarrierDelay       float64\n",
      " 25  WeatherDelay       float64\n",
      " 26  NASDelay           float64\n",
      " 27  SecurityDelay      float64\n",
      " 28  LateAircraftDelay  float64\n",
      "dtypes: float64(11), int64(13), object(5)\n",
      "memory usage: 2.3+ GB\n"
     ]
    }
   ],
   "source": [
    "df.info()"
   ]
  },
  {
   "cell_type": "code",
   "execution_count": 6,
   "id": "30a48eba",
   "metadata": {},
   "outputs": [
    {
     "data": {
      "text/plain": [
       "Year                 10379203\n",
       "Month                10379203\n",
       "DayofMonth           10379203\n",
       "DayOfWeek            10379203\n",
       "DepTime              10197586\n",
       "CRSDepTime           10379203\n",
       "ArrTime              10178029\n",
       "CRSArrTime           10379203\n",
       "UniqueCarrier        10379203\n",
       "FlightNum            10379203\n",
       "TailNum              10366141\n",
       "ActualElapsedTime    10178029\n",
       "CRSElapsedTime       10379203\n",
       "AirTime              10178029\n",
       "ArrDelay             10178029\n",
       "DepDelay             10197586\n",
       "Origin               10379203\n",
       "Dest                 10379203\n",
       "Distance             10379203\n",
       "TaxiIn               10379203\n",
       "TaxiOut              10379203\n",
       "Cancelled            10379203\n",
       "CancellationCode       157652\n",
       "Diverted             10379203\n",
       "CarrierDelay          9042832\n",
       "WeatherDelay          9042832\n",
       "NASDelay              9042832\n",
       "SecurityDelay         9042832\n",
       "LateAircraftDelay     9042832\n",
       "dtype: int64"
      ]
     },
     "execution_count": 6,
     "metadata": {},
     "output_type": "execute_result"
    }
   ],
   "source": [
    "df.count()"
   ]
  },
  {
   "cell_type": "code",
   "execution_count": 7,
   "id": "4d29f920",
   "metadata": {},
   "outputs": [],
   "source": [
    "df = df.drop(columns = ['CancellationCode'])"
   ]
  },
  {
   "cell_type": "code",
   "execution_count": 8,
   "id": "e7db3809",
   "metadata": {},
   "outputs": [],
   "source": [
    "df = df.dropna()"
   ]
  },
  {
   "cell_type": "code",
   "execution_count": 9,
   "id": "bfba973b",
   "metadata": {
    "scrolled": true
   },
   "outputs": [
    {
     "data": {
      "text/plain": [
       "Year                 8867911\n",
       "Month                8867911\n",
       "DayofMonth           8867911\n",
       "DayOfWeek            8867911\n",
       "DepTime              8867911\n",
       "CRSDepTime           8867911\n",
       "ArrTime              8867911\n",
       "CRSArrTime           8867911\n",
       "UniqueCarrier        8867911\n",
       "FlightNum            8867911\n",
       "TailNum              8867911\n",
       "ActualElapsedTime    8867911\n",
       "CRSElapsedTime       8867911\n",
       "AirTime              8867911\n",
       "ArrDelay             8867911\n",
       "DepDelay             8867911\n",
       "Origin               8867911\n",
       "Dest                 8867911\n",
       "Distance             8867911\n",
       "TaxiIn               8867911\n",
       "TaxiOut              8867911\n",
       "Cancelled            8867911\n",
       "Diverted             8867911\n",
       "CarrierDelay         8867911\n",
       "WeatherDelay         8867911\n",
       "NASDelay             8867911\n",
       "SecurityDelay        8867911\n",
       "LateAircraftDelay    8867911\n",
       "dtype: int64"
      ]
     },
     "execution_count": 9,
     "metadata": {},
     "output_type": "execute_result"
    }
   ],
   "source": [
    "df.count()"
   ]
  },
  {
   "cell_type": "code",
   "execution_count": 10,
   "id": "56c10ed5",
   "metadata": {},
   "outputs": [],
   "source": [
    "planedf = pd.read_csv('plane-data.csv')"
   ]
  },
  {
   "cell_type": "code",
   "execution_count": 11,
   "id": "dd857d08",
   "metadata": {},
   "outputs": [
    {
     "name": "stdout",
     "output_type": "stream",
     "text": [
      "<class 'pandas.core.frame.DataFrame'>\n",
      "RangeIndex: 5029 entries, 0 to 5028\n",
      "Data columns (total 9 columns):\n",
      " #   Column         Non-Null Count  Dtype \n",
      "---  ------         --------------  ----- \n",
      " 0   tailnum        5029 non-null   object\n",
      " 1   type           4480 non-null   object\n",
      " 2   manufacturer   4480 non-null   object\n",
      " 3   issue_date     4480 non-null   object\n",
      " 4   model          4480 non-null   object\n",
      " 5   status         4480 non-null   object\n",
      " 6   aircraft_type  4480 non-null   object\n",
      " 7   engine_type    4480 non-null   object\n",
      " 8   year           4480 non-null   object\n",
      "dtypes: object(9)\n",
      "memory usage: 353.7+ KB\n"
     ]
    }
   ],
   "source": [
    "planedf.info()"
   ]
  },
  {
   "cell_type": "code",
   "execution_count": 12,
   "id": "3d61db74",
   "metadata": {},
   "outputs": [],
   "source": [
    "planedf.columns = ['TailNum', 'Type', 'Manufacturer', 'IssueDate', \n",
    "                   'Model', 'Status', 'AircraftType', 'EngineType', 'Year']"
   ]
  },
  {
   "cell_type": "code",
   "execution_count": 13,
   "id": "f016c4b9",
   "metadata": {},
   "outputs": [],
   "source": [
    "pd = planedf.dropna()"
   ]
  },
  {
   "cell_type": "code",
   "execution_count": 14,
   "id": "39492738",
   "metadata": {},
   "outputs": [
    {
     "data": {
      "text/plain": [
       "TailNum         4480\n",
       "Type            4480\n",
       "Manufacturer    4480\n",
       "IssueDate       4480\n",
       "Model           4480\n",
       "Status          4480\n",
       "AircraftType    4480\n",
       "EngineType      4480\n",
       "Year            4480\n",
       "dtype: int64"
      ]
     },
     "execution_count": 14,
     "metadata": {},
     "output_type": "execute_result"
    }
   ],
   "source": [
    "pd.count()"
   ]
  },
  {
   "cell_type": "code",
   "execution_count": 15,
   "id": "9f5a810c",
   "metadata": {},
   "outputs": [],
   "source": [
    "FullData = df.merge(pd, on='TailNum', how='left')"
   ]
  },
  {
   "cell_type": "code",
   "execution_count": 16,
   "id": "3a83dff4",
   "metadata": {},
   "outputs": [
    {
     "data": {
      "text/plain": [
       "Year_x               8867911\n",
       "Month                8867911\n",
       "DayofMonth           8867911\n",
       "DayOfWeek            8867911\n",
       "DepTime              8867911\n",
       "CRSDepTime           8867911\n",
       "ArrTime              8867911\n",
       "CRSArrTime           8867911\n",
       "UniqueCarrier        8867911\n",
       "FlightNum            8867911\n",
       "TailNum              8867911\n",
       "ActualElapsedTime    8867911\n",
       "CRSElapsedTime       8867911\n",
       "AirTime              8867911\n",
       "ArrDelay             8867911\n",
       "DepDelay             8867911\n",
       "Origin               8867911\n",
       "Dest                 8867911\n",
       "Distance             8867911\n",
       "TaxiIn               8867911\n",
       "TaxiOut              8867911\n",
       "Cancelled            8867911\n",
       "Diverted             8867911\n",
       "CarrierDelay         8867911\n",
       "WeatherDelay         8867911\n",
       "NASDelay             8867911\n",
       "SecurityDelay        8867911\n",
       "LateAircraftDelay    8867911\n",
       "Type                 5782426\n",
       "Manufacturer         5782426\n",
       "IssueDate            5782426\n",
       "Model                5782426\n",
       "Status               5782426\n",
       "AircraftType         5782426\n",
       "EngineType           5782426\n",
       "Year_y               5782426\n",
       "dtype: int64"
      ]
     },
     "execution_count": 16,
     "metadata": {},
     "output_type": "execute_result"
    }
   ],
   "source": [
    "FullData.count()"
   ]
  },
  {
   "cell_type": "code",
   "execution_count": 17,
   "id": "8b49a512",
   "metadata": {},
   "outputs": [],
   "source": [
    "FullData = FullData.dropna()"
   ]
  },
  {
   "cell_type": "code",
   "execution_count": 18,
   "id": "14580ff6",
   "metadata": {},
   "outputs": [
    {
     "data": {
      "text/plain": [
       "Year_x               5782426\n",
       "Month                5782426\n",
       "DayofMonth           5782426\n",
       "DayOfWeek            5782426\n",
       "DepTime              5782426\n",
       "CRSDepTime           5782426\n",
       "ArrTime              5782426\n",
       "CRSArrTime           5782426\n",
       "UniqueCarrier        5782426\n",
       "FlightNum            5782426\n",
       "TailNum              5782426\n",
       "ActualElapsedTime    5782426\n",
       "CRSElapsedTime       5782426\n",
       "AirTime              5782426\n",
       "ArrDelay             5782426\n",
       "DepDelay             5782426\n",
       "Origin               5782426\n",
       "Dest                 5782426\n",
       "Distance             5782426\n",
       "TaxiIn               5782426\n",
       "TaxiOut              5782426\n",
       "Cancelled            5782426\n",
       "Diverted             5782426\n",
       "CarrierDelay         5782426\n",
       "WeatherDelay         5782426\n",
       "NASDelay             5782426\n",
       "SecurityDelay        5782426\n",
       "LateAircraftDelay    5782426\n",
       "Type                 5782426\n",
       "Manufacturer         5782426\n",
       "IssueDate            5782426\n",
       "Model                5782426\n",
       "Status               5782426\n",
       "AircraftType         5782426\n",
       "EngineType           5782426\n",
       "Year_y               5782426\n",
       "dtype: int64"
      ]
     },
     "execution_count": 18,
     "metadata": {},
     "output_type": "execute_result"
    }
   ],
   "source": [
    "FullData.count()"
   ]
  },
  {
   "cell_type": "code",
   "execution_count": 19,
   "id": "506ece2d",
   "metadata": {},
   "outputs": [
    {
     "name": "stdout",
     "output_type": "stream",
     "text": [
      "<class 'pandas.core.frame.DataFrame'>\n",
      "Int64Index: 5782426 entries, 0 to 8867910\n",
      "Data columns (total 36 columns):\n",
      " #   Column             Dtype  \n",
      "---  ------             -----  \n",
      " 0   Year_x             int64  \n",
      " 1   Month              int64  \n",
      " 2   DayofMonth         int64  \n",
      " 3   DayOfWeek          int64  \n",
      " 4   DepTime            float64\n",
      " 5   CRSDepTime         int64  \n",
      " 6   ArrTime            float64\n",
      " 7   CRSArrTime         int64  \n",
      " 8   UniqueCarrier      object \n",
      " 9   FlightNum          int64  \n",
      " 10  TailNum            object \n",
      " 11  ActualElapsedTime  float64\n",
      " 12  CRSElapsedTime     int64  \n",
      " 13  AirTime            float64\n",
      " 14  ArrDelay           float64\n",
      " 15  DepDelay           float64\n",
      " 16  Origin             object \n",
      " 17  Dest               object \n",
      " 18  Distance           int64  \n",
      " 19  TaxiIn             int64  \n",
      " 20  TaxiOut            int64  \n",
      " 21  Cancelled          int64  \n",
      " 22  Diverted           int64  \n",
      " 23  CarrierDelay       float64\n",
      " 24  WeatherDelay       float64\n",
      " 25  NASDelay           float64\n",
      " 26  SecurityDelay      float64\n",
      " 27  LateAircraftDelay  float64\n",
      " 28  Type               object \n",
      " 29  Manufacturer       object \n",
      " 30  IssueDate          object \n",
      " 31  Model              object \n",
      " 32  Status             object \n",
      " 33  AircraftType       object \n",
      " 34  EngineType         object \n",
      " 35  Year_y             object \n",
      "dtypes: float64(11), int64(13), object(12)\n",
      "memory usage: 1.6+ GB\n"
     ]
    }
   ],
   "source": [
    "FullData.info()"
   ]
  },
  {
   "cell_type": "code",
   "execution_count": 20,
   "id": "3d40fbfb",
   "metadata": {},
   "outputs": [],
   "source": [
    "le = LabelEncoder() #change variables to numerical data"
   ]
  },
  {
   "cell_type": "code",
   "execution_count": 23,
   "id": "9e9a46f3",
   "metadata": {},
   "outputs": [],
   "source": [
    "le = le.fit(FullData['UniqueCarrier'])\n",
    "FullData['UniqueCarrier'] = le.transform(FullData['UniqueCarrier'])\n",
    "le = le.fit(FullData['TailNum'])\n",
    "FullData['TailNum'] = le.transform(FullData['TailNum'])\n",
    "le = le.fit(FullData['Origin'])\n",
    "FullData['Origin'] = le.transform(FullData['Origin'])\n",
    "le = le.fit(FullData['Dest'])\n",
    "FullData['Dest'] = le.transform(FullData['Dest'])\n",
    "le = le.fit(FullData['Type'])\n",
    "FullData['Type'] = le.transform(FullData['Type'])\n",
    "le = le.fit(FullData['Manufacturer'])\n",
    "FullData['Manufacturer'] = le.transform(FullData['Manufacturer'])\n",
    "le = le.fit(FullData['IssueDate'])\n",
    "FullData['IssueDate'] = le.transform(FullData['IssueDate'])\n",
    "le = le.fit(FullData['Model'])\n",
    "FullData['Model'] = le.transform(FullData['Model'])\n",
    "le = le.fit(FullData['Status'])\n",
    "FullData['Status'] = le.transform(FullData['Status'])\n",
    "le = le.fit(FullData['AircraftType'])\n",
    "FullData['AircraftType'] = le.transform(FullData['AircraftType'])\n",
    "le = le.fit(FullData['EngineType'])\n",
    "FullData['EngineType'] = le.transform(FullData['EngineType'])\n",
    "le = le.fit(FullData['Year_y'])\n",
    "FullData['Year_y'] = le.transform(FullData['Year_y'])"
   ]
  },
  {
   "cell_type": "code",
   "execution_count": 24,
   "id": "526f3e32",
   "metadata": {},
   "outputs": [
    {
     "name": "stdout",
     "output_type": "stream",
     "text": [
      "<class 'pandas.core.frame.DataFrame'>\n",
      "Int64Index: 5782426 entries, 0 to 8867910\n",
      "Data columns (total 36 columns):\n",
      " #   Column             Dtype  \n",
      "---  ------             -----  \n",
      " 0   Year_x             int64  \n",
      " 1   Month              int64  \n",
      " 2   DayofMonth         int64  \n",
      " 3   DayOfWeek          int64  \n",
      " 4   DepTime            float64\n",
      " 5   CRSDepTime         int64  \n",
      " 6   ArrTime            float64\n",
      " 7   CRSArrTime         int64  \n",
      " 8   UniqueCarrier      int64  \n",
      " 9   FlightNum          int64  \n",
      " 10  TailNum            int64  \n",
      " 11  ActualElapsedTime  float64\n",
      " 12  CRSElapsedTime     int64  \n",
      " 13  AirTime            float64\n",
      " 14  ArrDelay           float64\n",
      " 15  DepDelay           float64\n",
      " 16  Origin             int64  \n",
      " 17  Dest               int64  \n",
      " 18  Distance           int64  \n",
      " 19  TaxiIn             int64  \n",
      " 20  TaxiOut            int64  \n",
      " 21  Cancelled          int64  \n",
      " 22  Diverted           int64  \n",
      " 23  CarrierDelay       float64\n",
      " 24  WeatherDelay       float64\n",
      " 25  NASDelay           float64\n",
      " 26  SecurityDelay      float64\n",
      " 27  LateAircraftDelay  float64\n",
      " 28  Type               int64  \n",
      " 29  Manufacturer       int64  \n",
      " 30  IssueDate          int64  \n",
      " 31  Model              int64  \n",
      " 32  Status             int64  \n",
      " 33  AircraftType       int32  \n",
      " 34  EngineType         int32  \n",
      " 35  Year_y             int32  \n",
      "dtypes: float64(11), int32(3), int64(22)\n",
      "memory usage: 1.5 GB\n"
     ]
    }
   ],
   "source": [
    "FullData.info()"
   ]
  },
  {
   "cell_type": "code",
   "execution_count": 25,
   "id": "5e7149ab",
   "metadata": {},
   "outputs": [
    {
     "data": {
      "text/html": [
       "<div>\n",
       "<style scoped>\n",
       "    .dataframe tbody tr th:only-of-type {\n",
       "        vertical-align: middle;\n",
       "    }\n",
       "\n",
       "    .dataframe tbody tr th {\n",
       "        vertical-align: top;\n",
       "    }\n",
       "\n",
       "    .dataframe thead th {\n",
       "        text-align: right;\n",
       "    }\n",
       "</style>\n",
       "<table border=\"1\" class=\"dataframe\">\n",
       "  <thead>\n",
       "    <tr style=\"text-align: right;\">\n",
       "      <th></th>\n",
       "      <th>Year_x</th>\n",
       "      <th>Month</th>\n",
       "      <th>DayofMonth</th>\n",
       "      <th>DayOfWeek</th>\n",
       "      <th>DepTime</th>\n",
       "      <th>CRSDepTime</th>\n",
       "      <th>ArrTime</th>\n",
       "      <th>CRSArrTime</th>\n",
       "      <th>UniqueCarrier</th>\n",
       "      <th>FlightNum</th>\n",
       "      <th>...</th>\n",
       "      <th>SecurityDelay</th>\n",
       "      <th>LateAircraftDelay</th>\n",
       "      <th>Type</th>\n",
       "      <th>Manufacturer</th>\n",
       "      <th>IssueDate</th>\n",
       "      <th>Model</th>\n",
       "      <th>Status</th>\n",
       "      <th>AircraftType</th>\n",
       "      <th>EngineType</th>\n",
       "      <th>Year_y</th>\n",
       "    </tr>\n",
       "  </thead>\n",
       "  <tbody>\n",
       "    <tr>\n",
       "      <th>0</th>\n",
       "      <td>2003</td>\n",
       "      <td>6</td>\n",
       "      <td>30</td>\n",
       "      <td>1</td>\n",
       "      <td>1721.0</td>\n",
       "      <td>1725</td>\n",
       "      <td>1827.0</td>\n",
       "      <td>1838</td>\n",
       "      <td>15</td>\n",
       "      <td>781</td>\n",
       "      <td>...</td>\n",
       "      <td>0.0</td>\n",
       "      <td>0.0</td>\n",
       "      <td>1</td>\n",
       "      <td>10</td>\n",
       "      <td>899</td>\n",
       "      <td>74</td>\n",
       "      <td>1</td>\n",
       "      <td>1</td>\n",
       "      <td>3</td>\n",
       "      <td>42</td>\n",
       "    </tr>\n",
       "    <tr>\n",
       "      <th>1</th>\n",
       "      <td>2003</td>\n",
       "      <td>6</td>\n",
       "      <td>2</td>\n",
       "      <td>1</td>\n",
       "      <td>736.0</td>\n",
       "      <td>740</td>\n",
       "      <td>1015.0</td>\n",
       "      <td>1001</td>\n",
       "      <td>15</td>\n",
       "      <td>782</td>\n",
       "      <td>...</td>\n",
       "      <td>0.0</td>\n",
       "      <td>0.0</td>\n",
       "      <td>1</td>\n",
       "      <td>4</td>\n",
       "      <td>1588</td>\n",
       "      <td>89</td>\n",
       "      <td>1</td>\n",
       "      <td>1</td>\n",
       "      <td>3</td>\n",
       "      <td>43</td>\n",
       "    </tr>\n",
       "    <tr>\n",
       "      <th>2</th>\n",
       "      <td>2003</td>\n",
       "      <td>6</td>\n",
       "      <td>4</td>\n",
       "      <td>3</td>\n",
       "      <td>739.0</td>\n",
       "      <td>740</td>\n",
       "      <td>957.0</td>\n",
       "      <td>1001</td>\n",
       "      <td>15</td>\n",
       "      <td>782</td>\n",
       "      <td>...</td>\n",
       "      <td>0.0</td>\n",
       "      <td>0.0</td>\n",
       "      <td>1</td>\n",
       "      <td>5</td>\n",
       "      <td>1378</td>\n",
       "      <td>83</td>\n",
       "      <td>1</td>\n",
       "      <td>1</td>\n",
       "      <td>4</td>\n",
       "      <td>39</td>\n",
       "    </tr>\n",
       "    <tr>\n",
       "      <th>3</th>\n",
       "      <td>2003</td>\n",
       "      <td>6</td>\n",
       "      <td>6</td>\n",
       "      <td>5</td>\n",
       "      <td>739.0</td>\n",
       "      <td>740</td>\n",
       "      <td>949.0</td>\n",
       "      <td>1001</td>\n",
       "      <td>15</td>\n",
       "      <td>782</td>\n",
       "      <td>...</td>\n",
       "      <td>0.0</td>\n",
       "      <td>0.0</td>\n",
       "      <td>1</td>\n",
       "      <td>5</td>\n",
       "      <td>541</td>\n",
       "      <td>89</td>\n",
       "      <td>1</td>\n",
       "      <td>1</td>\n",
       "      <td>4</td>\n",
       "      <td>41</td>\n",
       "    </tr>\n",
       "    <tr>\n",
       "      <th>4</th>\n",
       "      <td>2003</td>\n",
       "      <td>6</td>\n",
       "      <td>8</td>\n",
       "      <td>7</td>\n",
       "      <td>733.0</td>\n",
       "      <td>740</td>\n",
       "      <td>938.0</td>\n",
       "      <td>1001</td>\n",
       "      <td>15</td>\n",
       "      <td>782</td>\n",
       "      <td>...</td>\n",
       "      <td>0.0</td>\n",
       "      <td>0.0</td>\n",
       "      <td>1</td>\n",
       "      <td>5</td>\n",
       "      <td>1046</td>\n",
       "      <td>89</td>\n",
       "      <td>1</td>\n",
       "      <td>1</td>\n",
       "      <td>4</td>\n",
       "      <td>42</td>\n",
       "    </tr>\n",
       "    <tr>\n",
       "      <th>...</th>\n",
       "      <td>...</td>\n",
       "      <td>...</td>\n",
       "      <td>...</td>\n",
       "      <td>...</td>\n",
       "      <td>...</td>\n",
       "      <td>...</td>\n",
       "      <td>...</td>\n",
       "      <td>...</td>\n",
       "      <td>...</td>\n",
       "      <td>...</td>\n",
       "      <td>...</td>\n",
       "      <td>...</td>\n",
       "      <td>...</td>\n",
       "      <td>...</td>\n",
       "      <td>...</td>\n",
       "      <td>...</td>\n",
       "      <td>...</td>\n",
       "      <td>...</td>\n",
       "      <td>...</td>\n",
       "      <td>...</td>\n",
       "      <td>...</td>\n",
       "    </tr>\n",
       "    <tr>\n",
       "      <th>8867904</th>\n",
       "      <td>2005</td>\n",
       "      <td>12</td>\n",
       "      <td>22</td>\n",
       "      <td>4</td>\n",
       "      <td>1319.0</td>\n",
       "      <td>1115</td>\n",
       "      <td>1642.0</td>\n",
       "      <td>1423</td>\n",
       "      <td>5</td>\n",
       "      <td>891</td>\n",
       "      <td>...</td>\n",
       "      <td>0.0</td>\n",
       "      <td>0.0</td>\n",
       "      <td>1</td>\n",
       "      <td>25</td>\n",
       "      <td>900</td>\n",
       "      <td>124</td>\n",
       "      <td>1</td>\n",
       "      <td>1</td>\n",
       "      <td>3</td>\n",
       "      <td>31</td>\n",
       "    </tr>\n",
       "    <tr>\n",
       "      <th>8867905</th>\n",
       "      <td>2005</td>\n",
       "      <td>12</td>\n",
       "      <td>22</td>\n",
       "      <td>4</td>\n",
       "      <td>1805.0</td>\n",
       "      <td>1805</td>\n",
       "      <td>1913.0</td>\n",
       "      <td>1910</td>\n",
       "      <td>5</td>\n",
       "      <td>893</td>\n",
       "      <td>...</td>\n",
       "      <td>0.0</td>\n",
       "      <td>0.0</td>\n",
       "      <td>1</td>\n",
       "      <td>10</td>\n",
       "      <td>1484</td>\n",
       "      <td>41</td>\n",
       "      <td>1</td>\n",
       "      <td>1</td>\n",
       "      <td>4</td>\n",
       "      <td>41</td>\n",
       "    </tr>\n",
       "    <tr>\n",
       "      <th>8867906</th>\n",
       "      <td>2005</td>\n",
       "      <td>12</td>\n",
       "      <td>22</td>\n",
       "      <td>4</td>\n",
       "      <td>758.0</td>\n",
       "      <td>759</td>\n",
       "      <td>1247.0</td>\n",
       "      <td>1241</td>\n",
       "      <td>5</td>\n",
       "      <td>895</td>\n",
       "      <td>...</td>\n",
       "      <td>0.0</td>\n",
       "      <td>0.0</td>\n",
       "      <td>1</td>\n",
       "      <td>10</td>\n",
       "      <td>421</td>\n",
       "      <td>54</td>\n",
       "      <td>1</td>\n",
       "      <td>1</td>\n",
       "      <td>4</td>\n",
       "      <td>32</td>\n",
       "    </tr>\n",
       "    <tr>\n",
       "      <th>8867907</th>\n",
       "      <td>2005</td>\n",
       "      <td>12</td>\n",
       "      <td>22</td>\n",
       "      <td>4</td>\n",
       "      <td>1256.0</td>\n",
       "      <td>1300</td>\n",
       "      <td>1306.0</td>\n",
       "      <td>1311</td>\n",
       "      <td>5</td>\n",
       "      <td>897</td>\n",
       "      <td>...</td>\n",
       "      <td>0.0</td>\n",
       "      <td>0.0</td>\n",
       "      <td>1</td>\n",
       "      <td>25</td>\n",
       "      <td>609</td>\n",
       "      <td>124</td>\n",
       "      <td>1</td>\n",
       "      <td>1</td>\n",
       "      <td>3</td>\n",
       "      <td>32</td>\n",
       "    </tr>\n",
       "    <tr>\n",
       "      <th>8867910</th>\n",
       "      <td>2005</td>\n",
       "      <td>12</td>\n",
       "      <td>22</td>\n",
       "      <td>4</td>\n",
       "      <td>1345.0</td>\n",
       "      <td>1344</td>\n",
       "      <td>1621.0</td>\n",
       "      <td>1614</td>\n",
       "      <td>5</td>\n",
       "      <td>905</td>\n",
       "      <td>...</td>\n",
       "      <td>0.0</td>\n",
       "      <td>0.0</td>\n",
       "      <td>1</td>\n",
       "      <td>10</td>\n",
       "      <td>959</td>\n",
       "      <td>41</td>\n",
       "      <td>1</td>\n",
       "      <td>1</td>\n",
       "      <td>4</td>\n",
       "      <td>42</td>\n",
       "    </tr>\n",
       "  </tbody>\n",
       "</table>\n",
       "<p>5782426 rows × 36 columns</p>\n",
       "</div>"
      ],
      "text/plain": [
       "         Year_x  Month  DayofMonth  DayOfWeek  DepTime  CRSDepTime  ArrTime  \\\n",
       "0          2003      6          30          1   1721.0        1725   1827.0   \n",
       "1          2003      6           2          1    736.0         740   1015.0   \n",
       "2          2003      6           4          3    739.0         740    957.0   \n",
       "3          2003      6           6          5    739.0         740    949.0   \n",
       "4          2003      6           8          7    733.0         740    938.0   \n",
       "...         ...    ...         ...        ...      ...         ...      ...   \n",
       "8867904    2005     12          22          4   1319.0        1115   1642.0   \n",
       "8867905    2005     12          22          4   1805.0        1805   1913.0   \n",
       "8867906    2005     12          22          4    758.0         759   1247.0   \n",
       "8867907    2005     12          22          4   1256.0        1300   1306.0   \n",
       "8867910    2005     12          22          4   1345.0        1344   1621.0   \n",
       "\n",
       "         CRSArrTime  UniqueCarrier  FlightNum  ...  SecurityDelay  \\\n",
       "0              1838             15        781  ...            0.0   \n",
       "1              1001             15        782  ...            0.0   \n",
       "2              1001             15        782  ...            0.0   \n",
       "3              1001             15        782  ...            0.0   \n",
       "4              1001             15        782  ...            0.0   \n",
       "...             ...            ...        ...  ...            ...   \n",
       "8867904        1423              5        891  ...            0.0   \n",
       "8867905        1910              5        893  ...            0.0   \n",
       "8867906        1241              5        895  ...            0.0   \n",
       "8867907        1311              5        897  ...            0.0   \n",
       "8867910        1614              5        905  ...            0.0   \n",
       "\n",
       "         LateAircraftDelay  Type  Manufacturer  IssueDate  Model  Status  \\\n",
       "0                      0.0     1            10        899     74       1   \n",
       "1                      0.0     1             4       1588     89       1   \n",
       "2                      0.0     1             5       1378     83       1   \n",
       "3                      0.0     1             5        541     89       1   \n",
       "4                      0.0     1             5       1046     89       1   \n",
       "...                    ...   ...           ...        ...    ...     ...   \n",
       "8867904                0.0     1            25        900    124       1   \n",
       "8867905                0.0     1            10       1484     41       1   \n",
       "8867906                0.0     1            10        421     54       1   \n",
       "8867907                0.0     1            25        609    124       1   \n",
       "8867910                0.0     1            10        959     41       1   \n",
       "\n",
       "         AircraftType  EngineType  Year_y  \n",
       "0                   1           3      42  \n",
       "1                   1           3      43  \n",
       "2                   1           4      39  \n",
       "3                   1           4      41  \n",
       "4                   1           4      42  \n",
       "...               ...         ...     ...  \n",
       "8867904             1           3      31  \n",
       "8867905             1           4      41  \n",
       "8867906             1           4      32  \n",
       "8867907             1           3      32  \n",
       "8867910             1           4      42  \n",
       "\n",
       "[5782426 rows x 36 columns]"
      ]
     },
     "execution_count": 25,
     "metadata": {},
     "output_type": "execute_result"
    }
   ],
   "source": [
    "FullData"
   ]
  },
  {
   "cell_type": "code",
   "execution_count": 26,
   "id": "a585d60d",
   "metadata": {},
   "outputs": [
    {
     "data": {
      "text/plain": [
       "Year_x               5782426\n",
       "Month                5782426\n",
       "DayofMonth           5782426\n",
       "DayOfWeek            5782426\n",
       "DepTime              5782426\n",
       "CRSDepTime           5782426\n",
       "ArrTime              5782426\n",
       "CRSArrTime           5782426\n",
       "UniqueCarrier        5782426\n",
       "FlightNum            5782426\n",
       "TailNum              5782426\n",
       "ActualElapsedTime    5782426\n",
       "CRSElapsedTime       5782426\n",
       "AirTime              5782426\n",
       "ArrDelay             5782426\n",
       "DepDelay             5782426\n",
       "Origin               5782426\n",
       "Dest                 5782426\n",
       "Distance             5782426\n",
       "TaxiIn               5782426\n",
       "TaxiOut              5782426\n",
       "Cancelled            5782426\n",
       "Diverted             5782426\n",
       "CarrierDelay         5782426\n",
       "WeatherDelay         5782426\n",
       "NASDelay             5782426\n",
       "SecurityDelay        5782426\n",
       "LateAircraftDelay    5782426\n",
       "Type                 5782426\n",
       "Manufacturer         5782426\n",
       "IssueDate            5782426\n",
       "Model                5782426\n",
       "Status               5782426\n",
       "AircraftType         5782426\n",
       "EngineType           5782426\n",
       "Year_y               5782426\n",
       "dtype: int64"
      ]
     },
     "execution_count": 26,
     "metadata": {},
     "output_type": "execute_result"
    }
   ],
   "source": [
    "FullData.count()"
   ]
  },
  {
   "cell_type": "code",
   "execution_count": 27,
   "id": "6d23cfd8",
   "metadata": {},
   "outputs": [
    {
     "data": {
      "text/plain": [
       "6.573528653890253"
      ]
     },
     "execution_count": 27,
     "metadata": {},
     "output_type": "execute_result"
    }
   ],
   "source": [
    "(FullData[\"ArrDelay\"].sum())/5782426"
   ]
  },
  {
   "cell_type": "code",
   "execution_count": 28,
   "id": "4a053f3b",
   "metadata": {},
   "outputs": [],
   "source": [
    "df = FullData.drop(columns = ['Cancelled', 'Diverted'])"
   ]
  },
  {
   "cell_type": "code",
   "execution_count": 29,
   "id": "d0fd2293",
   "metadata": {},
   "outputs": [
    {
     "data": {
      "text/plain": [
       "Index(['Year_x', 'Month', 'DayofMonth', 'DayOfWeek', 'DepTime', 'CRSDepTime',\n",
       "       'ArrTime', 'CRSArrTime', 'UniqueCarrier', 'FlightNum', 'TailNum',\n",
       "       'ActualElapsedTime', 'CRSElapsedTime', 'AirTime', 'ArrDelay',\n",
       "       'DepDelay', 'Origin', 'Dest', 'Distance', 'TaxiIn', 'TaxiOut',\n",
       "       'CarrierDelay', 'WeatherDelay', 'NASDelay', 'SecurityDelay',\n",
       "       'LateAircraftDelay', 'Type', 'Manufacturer', 'IssueDate', 'Model',\n",
       "       'Status', 'AircraftType', 'EngineType', 'Year_y'],\n",
       "      dtype='object')"
      ]
     },
     "execution_count": 29,
     "metadata": {},
     "output_type": "execute_result"
    }
   ],
   "source": [
    "df.columns"
   ]
  },
  {
   "cell_type": "code",
   "execution_count": null,
   "id": "ec2efd7e",
   "metadata": {},
   "outputs": [],
   "source": []
  },
  {
   "cell_type": "code",
   "execution_count": null,
   "id": "3a53e7ee",
   "metadata": {},
   "outputs": [],
   "source": [
    "#Correlation plot to check for multicollinearity"
   ]
  },
  {
   "cell_type": "code",
   "execution_count": 30,
   "id": "f6ef9894",
   "metadata": {},
   "outputs": [
    {
     "data": {
      "text/plain": [
       "Text(0.5, 1.05, 'Correlation of All Features')"
      ]
     },
     "execution_count": 30,
     "metadata": {},
     "output_type": "execute_result"
    },
    {
     "data": {
      "image/png": "[encoded data removed]",
      "text/plain": [
       "<Figure size 864x864 with 2 Axes>"
      ]
     },
     "metadata": {
      "needs_background": "light"
     },
     "output_type": "display_data"
    }
   ],
   "source": [
    "plt.figure(figsize=(12,12))\n",
    "\n",
    "sns.heatmap(df.corr(), linewidth=0.1,\n",
    "            cmap='Blues', linecolor='white', square=True, fmt='.2f', center=.3 ,annot=False)\n",
    "\n",
    "plt.title('Correlation of All Features', y=1.05, size=14)"
   ]
  },
  {
   "cell_type": "code",
   "execution_count": 31,
   "id": "b6e7da69",
   "metadata": {},
   "outputs": [],
   "source": [
    "# highest correlation with ArrDelay are DepDelay,Carrier Delay and Late Aircraft Delay"
   ]
  },
  {
   "cell_type": "code",
   "execution_count": null,
   "id": "bcdf5653",
   "metadata": {},
   "outputs": [],
   "source": []
  },
  {
   "cell_type": "code",
   "execution_count": 59,
   "id": "0af34712",
   "metadata": {},
   "outputs": [],
   "source": [
    "df = FullData.drop(columns = ['Cancelled', 'Diverted','Year_x','Month','DayofMonth','DayOfWeek',\n",
    "                             'DepTime','CRSDepTime','ArrTime','CRSArrTime','TailNum','ActualElapsedTime',\n",
    "                              'CRSElapsedTime','AirTime','Distance','TaxiIn','TaxiOut','IssueDate','WeatherDelay',\n",
    "                             'SecurityDelay','Type','Year_y','Model','Dest','FlightNum'])"
   ]
  },
  {
   "cell_type": "code",
   "execution_count": 60,
   "id": "cc1ab873",
   "metadata": {},
   "outputs": [
    {
     "data": {
      "text/plain": [
       "Index(['UniqueCarrier', 'ArrDelay', 'DepDelay', 'Origin', 'CarrierDelay',\n",
       "       'NASDelay', 'LateAircraftDelay', 'Manufacturer', 'Status',\n",
       "       'AircraftType', 'EngineType'],\n",
       "      dtype='object')"
      ]
     },
     "execution_count": 60,
     "metadata": {},
     "output_type": "execute_result"
    }
   ],
   "source": [
    "df.columns"
   ]
  },
  {
   "cell_type": "code",
   "execution_count": null,
   "id": "95a7ce39",
   "metadata": {},
   "outputs": [],
   "source": []
  },
  {
   "cell_type": "code",
   "execution_count": 36,
   "id": "ba76bf96",
   "metadata": {},
   "outputs": [
    {
     "name": "stdout",
     "output_type": "stream",
     "text": [
      "<class 'pandas.core.frame.DataFrame'>\n",
      "Int64Index: 5782426 entries, 0 to 8867910\n",
      "Data columns (total 15 columns):\n",
      " #   Column             Dtype  \n",
      "---  ------             -----  \n",
      " 0   UniqueCarrier      int64  \n",
      " 1   FlightNum          int64  \n",
      " 2   ArrDelay           float64\n",
      " 3   DepDelay           float64\n",
      " 4   Origin             int64  \n",
      " 5   Dest               int64  \n",
      " 6   CarrierDelay       float64\n",
      " 7   NASDelay           float64\n",
      " 8   LateAircraftDelay  float64\n",
      " 9   Manufacturer       int64  \n",
      " 10  Model              int64  \n",
      " 11  Status             int64  \n",
      " 12  AircraftType       int32  \n",
      " 13  EngineType         int32  \n",
      " 14  DelayLevel         int64  \n",
      "dtypes: float64(5), int32(2), int64(8)\n",
      "memory usage: 661.7 MB\n"
     ]
    }
   ],
   "source": [
    "df.info()"
   ]
  },
  {
   "cell_type": "code",
   "execution_count": null,
   "id": "b0671ef4",
   "metadata": {},
   "outputs": [],
   "source": []
  },
  {
   "cell_type": "code",
   "execution_count": null,
   "id": "4559e815",
   "metadata": {},
   "outputs": [],
   "source": [
    "#Preparing data for machine learning"
   ]
  },
  {
   "cell_type": "code",
   "execution_count": 61,
   "id": "aa905353",
   "metadata": {},
   "outputs": [],
   "source": [
    "X = df.drop('ArrDelay', axis =1) #drop the 'ArrDelay' column"
   ]
  },
  {
   "cell_type": "code",
   "execution_count": 62,
   "id": "ea8f2e8f",
   "metadata": {},
   "outputs": [],
   "source": [
    "y = df['ArrDelay']"
   ]
  },
  {
   "cell_type": "code",
   "execution_count": null,
   "id": "cc3ce567",
   "metadata": {},
   "outputs": [],
   "source": []
  },
  {
   "cell_type": "code",
   "execution_count": 63,
   "id": "d504bc06",
   "metadata": {},
   "outputs": [],
   "source": [
    "X_train, X_test, y_train, y_test = train_test_split(X, y, test_size = 0.25,random_state = 5)"
   ]
  },
  {
   "cell_type": "code",
   "execution_count": 64,
   "id": "3a508b1f",
   "metadata": {},
   "outputs": [],
   "source": [
    "sc1=StandardScaler()"
   ]
  },
  {
   "cell_type": "code",
   "execution_count": 81,
   "id": "acf3e7ca",
   "metadata": {},
   "outputs": [],
   "source": [
    "X_train_sc = sc1.fit_transform(X_train)\n",
    "X_test_sc = sc1.transform(X_test)"
   ]
  },
  {
   "cell_type": "code",
   "execution_count": null,
   "id": "c672ebc9",
   "metadata": {},
   "outputs": [],
   "source": []
  },
  {
   "cell_type": "code",
   "execution_count": null,
   "id": "bb60665e",
   "metadata": {},
   "outputs": [],
   "source": [
    "# Ridge regression, XGBoost regression and lasso regression are used for building models to predict delays."
   ]
  },
  {
   "cell_type": "markdown",
   "id": "48f91644",
   "metadata": {},
   "source": [
    "### 1. Ridge Regression"
   ]
  },
  {
   "cell_type": "code",
   "execution_count": 86,
   "id": "8af31847",
   "metadata": {},
   "outputs": [],
   "source": [
    "from sklearn.linear_model import Ridge, RidgeCV, Lasso, LassoCV\n",
    "import pandas as pd\n",
    "from numpy import arange\n",
    "from sklearn.linear_model import Ridge\n",
    "from sklearn.linear_model import RidgeCV\n",
    "from sklearn.model_selection import RepeatedKFold\n",
    "from sklearn.metrics import mean_absolute_error, r2_score"
   ]
  },
  {
   "cell_type": "code",
   "execution_count": 88,
   "id": "7bb21c66",
   "metadata": {},
   "outputs": [
    {
     "name": "stdout",
     "output_type": "stream",
     "text": [
      "0.0\n"
     ]
    }
   ],
   "source": [
    "#define cross-validation method to evaluate model\n",
    "cv = RepeatedKFold(n_splits=10, n_repeats=3, random_state=1)\n",
    "#define model\n",
    "model = RidgeCV(alphas=arange(0, 1, 0.1), cv=cv, scoring='neg_mean_absolute_error')\n",
    "#fit model\n",
    "model.fit(X_train_sc, y_train)\n",
    "#display lambda that produced the lowest test MSE\n",
    "print(model.alpha_)"
   ]
  },
  {
   "cell_type": "code",
   "execution_count": 89,
   "id": "37a50981",
   "metadata": {},
   "outputs": [
    {
     "name": "stdout",
     "output_type": "stream",
     "text": [
      "MAE: 7.21\n",
      "MSE: 108.46\n",
      "RMSE: 10.41\n",
      "R2: 0.9\n"
     ]
    }
   ],
   "source": [
    "# make a prediction\n",
    "predictedValues= model.predict(X_test_sc)\n",
    "# summarize prediction\n",
    "print ('MAE:' ,  round(mean_absolute_error(y_test, predictedValues),2))\n",
    "print ('MSE:' , round(mean_squared_error(y_test, predictedValues),2))\n",
    "print('RMSE:' , round(np.sqrt(mean_squared_error(y_test, predictedValues)),2))\n",
    "print ('R2:' , round(r2_score(y_test, predictedValues),2))"
   ]
  },
  {
   "cell_type": "code",
   "execution_count": 90,
   "id": "91e5050b",
   "metadata": {},
   "outputs": [
    {
     "data": {
      "image/png": "[encoded data removed]",
      "text/plain": [
       "<Figure size 432x288 with 1 Axes>"
      ]
     },
     "metadata": {
      "needs_background": "light"
     },
     "output_type": "display_data"
    }
   ],
   "source": [
    "#import matplotlib.pyplot as plt\n",
    "fig, ax = plt.subplots()\n",
    "ax.scatter(y_test, predictedValues)\n",
    "ax.plot([y.min(), y.max()], [y.min(), y.max()], 'k--', lw=3)\n",
    "ax.set_xlabel('Actual')\n",
    "ax.set_ylabel('Predicted')\n",
    "plt.show() "
   ]
  },
  {
   "cell_type": "code",
   "execution_count": null,
   "id": "8619bc01",
   "metadata": {},
   "outputs": [],
   "source": []
  },
  {
   "cell_type": "code",
   "execution_count": null,
   "id": "9fba5e1b",
   "metadata": {},
   "outputs": [],
   "source": []
  },
  {
   "cell_type": "markdown",
   "id": "551723a3",
   "metadata": {},
   "source": [
    "### 2. Extreme Gradient Boosting (XGBoost) regression"
   ]
  },
  {
   "cell_type": "code",
   "execution_count": 94,
   "id": "8fd2ab7c",
   "metadata": {},
   "outputs": [],
   "source": [
    "import xgboost as xgb\n",
    "import statsmodels.api as sm"
   ]
  },
  {
   "cell_type": "code",
   "execution_count": 95,
   "id": "628b0e4b",
   "metadata": {},
   "outputs": [],
   "source": [
    "#turning training/testing ests into DMatrixes\n",
    "DM_train=xgb.DMatrix(data=X_train_sc,label=y_train)\n",
    "DM_test=xgb.DMatrix(data=X_test_sc,label=y_test)"
   ]
  },
  {
   "cell_type": "code",
   "execution_count": 96,
   "id": "ebfe489e",
   "metadata": {},
   "outputs": [],
   "source": [
    "#Parameters for grid search\n",
    "gbm_param_grid={\n",
    "    'colsample_bytree': np.linspace(0.7, 0.9, 3),\n",
    "    'n_estimators':[50,100],\n",
    "    'max_depth':[3,5],\n",
    "}"
   ]
  },
  {
   "cell_type": "code",
   "execution_count": 97,
   "id": "997dfc63",
   "metadata": {},
   "outputs": [],
   "source": [
    "#Instantiate the regressor\n",
    "gbm=xgb.XGBRegressor()"
   ]
  },
  {
   "cell_type": "code",
   "execution_count": 98,
   "id": "eb98dce8",
   "metadata": {},
   "outputs": [],
   "source": [
    "grid_mse = GridSearchCV(estimator = gbm, param_grid = gbm_param_grid, scoring = 'neg_mean_squared_error', cv = 5, verbose = 1)"
   ]
  },
  {
   "cell_type": "code",
   "execution_count": 99,
   "id": "43ce75e1",
   "metadata": {},
   "outputs": [
    {
     "name": "stdout",
     "output_type": "stream",
     "text": [
      "Fitting 5 folds for each of 12 candidates, totalling 60 fits\n",
      "Best parameters found:  {'colsample_bytree': 0.9, 'max_depth': 5, 'n_estimators': 100}\n",
      "Lowest RMSE found:  8.23096697502714\n"
     ]
    }
   ],
   "source": [
    "grid_mse.fit(X_train_sc, y_train)\n",
    "\n",
    "print(\"Best parameters found: \",grid_mse.best_params_)\n",
    "print(\"Lowest RMSE found: \", np.sqrt(np.abs(grid_mse.best_score_)))"
   ]
  },
  {
   "cell_type": "code",
   "execution_count": 100,
   "id": "b0a6dc2e",
   "metadata": {},
   "outputs": [
    {
     "name": "stdout",
     "output_type": "stream",
     "text": [
      "MAE: 6.78\n",
      "MSE: 175\n",
      "RMSE: 13.22\n",
      "R2: 0.84\n"
     ]
    }
   ],
   "source": [
    "predictedValues=grid_mse.predict(X_test_sc)\n",
    "\n",
    "# summarize prediction\n",
    "print ('MAE:' ,  round(mean_absolute_error(y_test, predictedValues),2))\n",
    "print ('MSE:' , round(mean_squared_error(y_test, predictedValues),))\n",
    "print('RMSE:' , round(np.sqrt(mean_squared_error(y_test, predictedValues)),2))\n",
    "print ('R2:' , round(r2_score(y_test, predictedValues),2))"
   ]
  },
  {
   "cell_type": "code",
   "execution_count": 102,
   "id": "7e6a73bf",
   "metadata": {},
   "outputs": [
    {
     "data": {
      "image/png": "[encoded data removed]",
      "text/plain": [
       "<Figure size 432x288 with 1 Axes>"
      ]
     },
     "metadata": {
      "needs_background": "light"
     },
     "output_type": "display_data"
    }
   ],
   "source": [
    "#import matplotlib.pyplot as plt\n",
    "fig, ax = plt.subplots()\n",
    "ax.scatter(y_test, predictedValues)\n",
    "ax.plot([y.min(), y.max()], [y.min(), y.max()], 'k--', lw=3)\n",
    "ax.set_xlabel('Actual')\n",
    "ax.set_ylabel('Predicted')\n",
    "plt.show() "
   ]
  },
  {
   "cell_type": "code",
   "execution_count": null,
   "id": "a8e626ed",
   "metadata": {},
   "outputs": [],
   "source": []
  },
  {
   "cell_type": "code",
   "execution_count": null,
   "id": "289dcb9b",
   "metadata": {},
   "outputs": [],
   "source": []
  },
  {
   "cell_type": "markdown",
   "id": "e59cf695",
   "metadata": {},
   "source": [
    "### 3. Lasso Regression"
   ]
  },
  {
   "cell_type": "code",
   "execution_count": 91,
   "id": "557ed266",
   "metadata": {},
   "outputs": [
    {
     "name": "stdout",
     "output_type": "stream",
     "text": [
      "Mean MAE: 7.228 (0.010)\n"
     ]
    }
   ],
   "source": [
    "# evaluate an lasso regression model on the dataset\n",
    "from numpy import mean\n",
    "from numpy import std\n",
    "from numpy import absolute\n",
    "from pandas import read_csv\n",
    "from sklearn.model_selection import cross_val_score\n",
    "from sklearn.model_selection import RepeatedKFold\n",
    "from sklearn.linear_model import Lasso\n",
    "\n",
    "model = Lasso(alpha=1.0)\n",
    "# define model evaluation method\n",
    "cv = RepeatedKFold(n_splits=10, n_repeats=3, random_state=1)\n",
    "# evaluate model\n",
    "scores = cross_val_score(model, X, y, scoring='neg_mean_absolute_error', cv=cv, n_jobs=-1)\n",
    "# force scores to be positive\n",
    "scores = absolute(scores)\n",
    "print('Mean MAE: %.3f (%.3f)' % (mean(scores), std(scores)))"
   ]
  },
  {
   "cell_type": "code",
   "execution_count": 92,
   "id": "6fdf5fe9",
   "metadata": {},
   "outputs": [
    {
     "name": "stdout",
     "output_type": "stream",
     "text": [
      "MAE: 7.43\n",
      "MSE: 111\n",
      "RMSE: 10.55\n",
      "R2: 0.9\n"
     ]
    }
   ],
   "source": [
    "# fit model\n",
    "model.fit(X_train_sc, y_train)\n",
    "# make a prediction\n",
    "predictedValues= model.predict(X_test_sc)\n",
    "# summarize prediction\n",
    "print ('MAE:' ,  round(mean_absolute_error(y_test, predictedValues),2))\n",
    "print ('MSE:' , round(mean_squared_error(y_test, predictedValues),))\n",
    "print('RMSE:' , round(np.sqrt(mean_squared_error(y_test, predictedValues)),2))\n",
    "print ('R2:' , round(r2_score(y_test, predictedValues),2))"
   ]
  },
  {
   "cell_type": "code",
   "execution_count": 93,
   "id": "e2bc9fca",
   "metadata": {},
   "outputs": [
    {
     "data": {
      "image/png": "[encoded data removed]",
      "text/plain": [
       "<Figure size 432x288 with 1 Axes>"
      ]
     },
     "metadata": {
      "needs_background": "light"
     },
     "output_type": "display_data"
    }
   ],
   "source": [
    "#import matplotlib.pyplot as plt\n",
    "fig, ax = plt.subplots()\n",
    "ax.scatter(y_test, predictedValues)\n",
    "ax.plot([y.min(), y.max()], [y.min(), y.max()], 'k--', lw=3)\n",
    "ax.set_xlabel('Actual')\n",
    "ax.set_ylabel('Predicted')\n",
    "plt.show() "
   ]
  },
  {
   "cell_type": "code",
   "execution_count": null,
   "id": "78fb3927",
   "metadata": {},
   "outputs": [],
   "source": []
  },
  {
   "cell_type": "code",
   "execution_count": null,
   "id": "16934372",
   "metadata": {},
   "outputs": [],
   "source": []
  },
  {
   "cell_type": "code",
   "execution_count": null,
   "id": "ea079bac",
   "metadata": {},
   "outputs": [],
   "source": []
  },
  {
   "cell_type": "code",
   "execution_count": null,
   "id": "e30eb0bb",
   "metadata": {},
   "outputs": [],
   "source": []
  },
  {
   "cell_type": "code",
   "execution_count": null,
   "id": "edddbd93",
   "metadata": {},
   "outputs": [],
   "source": []
  },
  {
   "cell_type": "code",
   "execution_count": null,
   "id": "86b89f7a",
   "metadata": {},
   "outputs": [],
   "source": []
  },
  {
   "cell_type": "code",
   "execution_count": null,
   "id": "47e45f85",
   "metadata": {},
   "outputs": [],
   "source": []
  },
  {
   "cell_type": "code",
   "execution_count": null,
   "id": "ed72a1c9",
   "metadata": {},
   "outputs": [],
   "source": []
  }
 ],
 "metadata": {
  "kernelspec": {
   "display_name": "Python 3 (ipykernel)",
   "language": "python",
   "name": "python3"
  },
  "language_info": {
   "codemirror_mode": {
    "name": "ipython",
    "version": 3
   },
   "file_extension": ".py",
   "mimetype": "text/x-python",
   "name": "python",
   "nbconvert_exporter": "python",
   "pygments_lexer": "ipython3",
   "version": "3.9.7"
  }
 },
 "nbformat": 4,
 "nbformat_minor": 5
}
