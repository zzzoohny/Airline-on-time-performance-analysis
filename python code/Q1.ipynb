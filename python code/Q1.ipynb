{
 "cells": [
  {
   "cell_type": "markdown",
   "id": "aaf8873b",
   "metadata": {},
   "source": [
    "## Question1. When is the best time of day,day of week,and time of year to minimise delays? \n"
   ]
  },
  {
   "cell_type": "code",
   "execution_count": 1,
   "id": "cc6920a7",
   "metadata": {},
   "outputs": [],
   "source": [
    "import sqlite3\n",
    "import os\n",
    "import pandas as pd\n",
    "import numpy as np\n",
    "import matplotlib.pyplot as plt\n",
    "import seaborn as sns "
   ]
  },
  {
   "cell_type": "code",
   "execution_count": 2,
   "id": "f4e9b9e9",
   "metadata": {},
   "outputs": [],
   "source": [
    "#change to the direectory where the files are stored\n",
    "os.chdir('C:\\\\Users\\\\juhyu\\\\OneDrive\\\\Desktop\\\\JH\\\\SIM\\\\Year2\\\\Programming for data science\\\\Coursework material\\\\dataverse_files')"
   ]
  },
  {
   "cell_type": "code",
   "execution_count": 3,
   "id": "c12134ee",
   "metadata": {},
   "outputs": [
    {
     "name": "stderr",
     "output_type": "stream",
     "text": [
      "C:\\Users\\juhyu\\Anaconda3\\lib\\site-packages\\IPython\\core\\interactiveshell.py:3444: FutureWarning: The error_bad_lines argument has been deprecated and will be removed in a future version.\n",
      "\n",
      "\n",
      "  exec(code_obj, self.user_global_ns, self.user_ns)\n"
     ]
    }
   ],
   "source": [
    "# ====== create tables ======\n",
    "#since the data is too big, we are extracting rows of odd number\n",
    "airline2003=pd.read_csv('2003.csv.bz2', compression='bz2', low_memory=False,error_bad_lines=False,skiprows=lambda x: x%2 ==1)\n",
    "airline2004=pd.read_csv('2004.csv.bz2', compression='bz2', low_memory=False,error_bad_lines=False,skiprows=lambda x: x%2 ==1)\n",
    "airline2005=pd.read_csv('2005.csv.bz2', compression='bz2', low_memory=False,error_bad_lines=False,skiprows=lambda x: x%2 ==1)"
   ]
  },
  {
   "cell_type": "code",
   "execution_count": 4,
   "id": "d1711a4e",
   "metadata": {},
   "outputs": [
    {
     "data": {
      "text/html": [
       "<div>\n",
       "<style scoped>\n",
       "    .dataframe tbody tr th:only-of-type {\n",
       "        vertical-align: middle;\n",
       "    }\n",
       "\n",
       "    .dataframe tbody tr th {\n",
       "        vertical-align: top;\n",
       "    }\n",
       "\n",
       "    .dataframe thead th {\n",
       "        text-align: right;\n",
       "    }\n",
       "</style>\n",
       "<table border=\"1\" class=\"dataframe\">\n",
       "  <thead>\n",
       "    <tr style=\"text-align: right;\">\n",
       "      <th></th>\n",
       "      <th>Year</th>\n",
       "      <th>Month</th>\n",
       "      <th>DayofMonth</th>\n",
       "      <th>DayOfWeek</th>\n",
       "      <th>DepTime</th>\n",
       "      <th>CRSDepTime</th>\n",
       "      <th>ArrTime</th>\n",
       "      <th>CRSArrTime</th>\n",
       "      <th>UniqueCarrier</th>\n",
       "      <th>FlightNum</th>\n",
       "      <th>...</th>\n",
       "      <th>TaxiIn</th>\n",
       "      <th>TaxiOut</th>\n",
       "      <th>Cancelled</th>\n",
       "      <th>CancellationCode</th>\n",
       "      <th>Diverted</th>\n",
       "      <th>CarrierDelay</th>\n",
       "      <th>WeatherDelay</th>\n",
       "      <th>NASDelay</th>\n",
       "      <th>SecurityDelay</th>\n",
       "      <th>LateAircraftDelay</th>\n",
       "    </tr>\n",
       "  </thead>\n",
       "  <tbody>\n",
       "    <tr>\n",
       "      <th>0</th>\n",
       "      <td>2003</td>\n",
       "      <td>1</td>\n",
       "      <td>30</td>\n",
       "      <td>4</td>\n",
       "      <td>1654.0</td>\n",
       "      <td>1655</td>\n",
       "      <td>1910.0</td>\n",
       "      <td>1913</td>\n",
       "      <td>UA</td>\n",
       "      <td>1017</td>\n",
       "      <td>...</td>\n",
       "      <td>2</td>\n",
       "      <td>26</td>\n",
       "      <td>0</td>\n",
       "      <td>NaN</td>\n",
       "      <td>0</td>\n",
       "      <td>NaN</td>\n",
       "      <td>NaN</td>\n",
       "      <td>NaN</td>\n",
       "      <td>NaN</td>\n",
       "      <td>NaN</td>\n",
       "    </tr>\n",
       "    <tr>\n",
       "      <th>1</th>\n",
       "      <td>2003</td>\n",
       "      <td>1</td>\n",
       "      <td>1</td>\n",
       "      <td>3</td>\n",
       "      <td>1033.0</td>\n",
       "      <td>1035</td>\n",
       "      <td>1625.0</td>\n",
       "      <td>1634</td>\n",
       "      <td>UA</td>\n",
       "      <td>1018</td>\n",
       "      <td>...</td>\n",
       "      <td>6</td>\n",
       "      <td>11</td>\n",
       "      <td>0</td>\n",
       "      <td>NaN</td>\n",
       "      <td>0</td>\n",
       "      <td>NaN</td>\n",
       "      <td>NaN</td>\n",
       "      <td>NaN</td>\n",
       "      <td>NaN</td>\n",
       "      <td>NaN</td>\n",
       "    </tr>\n",
       "    <tr>\n",
       "      <th>2</th>\n",
       "      <td>2003</td>\n",
       "      <td>1</td>\n",
       "      <td>3</td>\n",
       "      <td>5</td>\n",
       "      <td>1031.0</td>\n",
       "      <td>1035</td>\n",
       "      <td>1640.0</td>\n",
       "      <td>1634</td>\n",
       "      <td>UA</td>\n",
       "      <td>1018</td>\n",
       "      <td>...</td>\n",
       "      <td>13</td>\n",
       "      <td>13</td>\n",
       "      <td>0</td>\n",
       "      <td>NaN</td>\n",
       "      <td>0</td>\n",
       "      <td>NaN</td>\n",
       "      <td>NaN</td>\n",
       "      <td>NaN</td>\n",
       "      <td>NaN</td>\n",
       "      <td>NaN</td>\n",
       "    </tr>\n",
       "    <tr>\n",
       "      <th>3</th>\n",
       "      <td>2003</td>\n",
       "      <td>1</td>\n",
       "      <td>5</td>\n",
       "      <td>7</td>\n",
       "      <td>1035.0</td>\n",
       "      <td>1035</td>\n",
       "      <td>1636.0</td>\n",
       "      <td>1634</td>\n",
       "      <td>UA</td>\n",
       "      <td>1018</td>\n",
       "      <td>...</td>\n",
       "      <td>5</td>\n",
       "      <td>9</td>\n",
       "      <td>0</td>\n",
       "      <td>NaN</td>\n",
       "      <td>0</td>\n",
       "      <td>NaN</td>\n",
       "      <td>NaN</td>\n",
       "      <td>NaN</td>\n",
       "      <td>NaN</td>\n",
       "      <td>NaN</td>\n",
       "    </tr>\n",
       "    <tr>\n",
       "      <th>4</th>\n",
       "      <td>2003</td>\n",
       "      <td>1</td>\n",
       "      <td>1</td>\n",
       "      <td>3</td>\n",
       "      <td>1713.0</td>\n",
       "      <td>1710</td>\n",
       "      <td>1851.0</td>\n",
       "      <td>1847</td>\n",
       "      <td>UA</td>\n",
       "      <td>1020</td>\n",
       "      <td>...</td>\n",
       "      <td>7</td>\n",
       "      <td>29</td>\n",
       "      <td>0</td>\n",
       "      <td>NaN</td>\n",
       "      <td>0</td>\n",
       "      <td>NaN</td>\n",
       "      <td>NaN</td>\n",
       "      <td>NaN</td>\n",
       "      <td>NaN</td>\n",
       "      <td>NaN</td>\n",
       "    </tr>\n",
       "    <tr>\n",
       "      <th>...</th>\n",
       "      <td>...</td>\n",
       "      <td>...</td>\n",
       "      <td>...</td>\n",
       "      <td>...</td>\n",
       "      <td>...</td>\n",
       "      <td>...</td>\n",
       "      <td>...</td>\n",
       "      <td>...</td>\n",
       "      <td>...</td>\n",
       "      <td>...</td>\n",
       "      <td>...</td>\n",
       "      <td>...</td>\n",
       "      <td>...</td>\n",
       "      <td>...</td>\n",
       "      <td>...</td>\n",
       "      <td>...</td>\n",
       "      <td>...</td>\n",
       "      <td>...</td>\n",
       "      <td>...</td>\n",
       "      <td>...</td>\n",
       "      <td>...</td>\n",
       "    </tr>\n",
       "    <tr>\n",
       "      <th>3570293</th>\n",
       "      <td>2005</td>\n",
       "      <td>12</td>\n",
       "      <td>22</td>\n",
       "      <td>4</td>\n",
       "      <td>758.0</td>\n",
       "      <td>759</td>\n",
       "      <td>1247.0</td>\n",
       "      <td>1241</td>\n",
       "      <td>DL</td>\n",
       "      <td>895</td>\n",
       "      <td>...</td>\n",
       "      <td>6</td>\n",
       "      <td>14</td>\n",
       "      <td>0</td>\n",
       "      <td>NaN</td>\n",
       "      <td>0</td>\n",
       "      <td>0.0</td>\n",
       "      <td>0.0</td>\n",
       "      <td>0.0</td>\n",
       "      <td>0.0</td>\n",
       "      <td>0.0</td>\n",
       "    </tr>\n",
       "    <tr>\n",
       "      <th>3570294</th>\n",
       "      <td>2005</td>\n",
       "      <td>12</td>\n",
       "      <td>22</td>\n",
       "      <td>4</td>\n",
       "      <td>1256.0</td>\n",
       "      <td>1300</td>\n",
       "      <td>1306.0</td>\n",
       "      <td>1311</td>\n",
       "      <td>DL</td>\n",
       "      <td>897</td>\n",
       "      <td>...</td>\n",
       "      <td>6</td>\n",
       "      <td>22</td>\n",
       "      <td>0</td>\n",
       "      <td>NaN</td>\n",
       "      <td>0</td>\n",
       "      <td>0.0</td>\n",
       "      <td>0.0</td>\n",
       "      <td>0.0</td>\n",
       "      <td>0.0</td>\n",
       "      <td>0.0</td>\n",
       "    </tr>\n",
       "    <tr>\n",
       "      <th>3570295</th>\n",
       "      <td>2005</td>\n",
       "      <td>12</td>\n",
       "      <td>22</td>\n",
       "      <td>4</td>\n",
       "      <td>1652.0</td>\n",
       "      <td>1655</td>\n",
       "      <td>1815.0</td>\n",
       "      <td>1837</td>\n",
       "      <td>DL</td>\n",
       "      <td>901</td>\n",
       "      <td>...</td>\n",
       "      <td>7</td>\n",
       "      <td>15</td>\n",
       "      <td>0</td>\n",
       "      <td>NaN</td>\n",
       "      <td>0</td>\n",
       "      <td>0.0</td>\n",
       "      <td>0.0</td>\n",
       "      <td>0.0</td>\n",
       "      <td>0.0</td>\n",
       "      <td>0.0</td>\n",
       "    </tr>\n",
       "    <tr>\n",
       "      <th>3570296</th>\n",
       "      <td>2005</td>\n",
       "      <td>12</td>\n",
       "      <td>22</td>\n",
       "      <td>4</td>\n",
       "      <td>1507.0</td>\n",
       "      <td>1511</td>\n",
       "      <td>1641.0</td>\n",
       "      <td>1649</td>\n",
       "      <td>DL</td>\n",
       "      <td>903</td>\n",
       "      <td>...</td>\n",
       "      <td>4</td>\n",
       "      <td>29</td>\n",
       "      <td>0</td>\n",
       "      <td>NaN</td>\n",
       "      <td>0</td>\n",
       "      <td>0.0</td>\n",
       "      <td>0.0</td>\n",
       "      <td>0.0</td>\n",
       "      <td>0.0</td>\n",
       "      <td>0.0</td>\n",
       "    </tr>\n",
       "    <tr>\n",
       "      <th>3570297</th>\n",
       "      <td>2005</td>\n",
       "      <td>12</td>\n",
       "      <td>22</td>\n",
       "      <td>4</td>\n",
       "      <td>1345.0</td>\n",
       "      <td>1344</td>\n",
       "      <td>1621.0</td>\n",
       "      <td>1614</td>\n",
       "      <td>DL</td>\n",
       "      <td>905</td>\n",
       "      <td>...</td>\n",
       "      <td>6</td>\n",
       "      <td>27</td>\n",
       "      <td>0</td>\n",
       "      <td>NaN</td>\n",
       "      <td>0</td>\n",
       "      <td>0.0</td>\n",
       "      <td>0.0</td>\n",
       "      <td>0.0</td>\n",
       "      <td>0.0</td>\n",
       "      <td>0.0</td>\n",
       "    </tr>\n",
       "  </tbody>\n",
       "</table>\n",
       "<p>10379203 rows × 29 columns</p>\n",
       "</div>"
      ],
      "text/plain": [
       "         Year  Month  DayofMonth  DayOfWeek  DepTime  CRSDepTime  ArrTime  \\\n",
       "0        2003      1          30          4   1654.0        1655   1910.0   \n",
       "1        2003      1           1          3   1033.0        1035   1625.0   \n",
       "2        2003      1           3          5   1031.0        1035   1640.0   \n",
       "3        2003      1           5          7   1035.0        1035   1636.0   \n",
       "4        2003      1           1          3   1713.0        1710   1851.0   \n",
       "...       ...    ...         ...        ...      ...         ...      ...   \n",
       "3570293  2005     12          22          4    758.0         759   1247.0   \n",
       "3570294  2005     12          22          4   1256.0        1300   1306.0   \n",
       "3570295  2005     12          22          4   1652.0        1655   1815.0   \n",
       "3570296  2005     12          22          4   1507.0        1511   1641.0   \n",
       "3570297  2005     12          22          4   1345.0        1344   1621.0   \n",
       "\n",
       "         CRSArrTime UniqueCarrier  FlightNum  ... TaxiIn  TaxiOut  Cancelled  \\\n",
       "0              1913            UA       1017  ...      2       26          0   \n",
       "1              1634            UA       1018  ...      6       11          0   \n",
       "2              1634            UA       1018  ...     13       13          0   \n",
       "3              1634            UA       1018  ...      5        9          0   \n",
       "4              1847            UA       1020  ...      7       29          0   \n",
       "...             ...           ...        ...  ...    ...      ...        ...   \n",
       "3570293        1241            DL        895  ...      6       14          0   \n",
       "3570294        1311            DL        897  ...      6       22          0   \n",
       "3570295        1837            DL        901  ...      7       15          0   \n",
       "3570296        1649            DL        903  ...      4       29          0   \n",
       "3570297        1614            DL        905  ...      6       27          0   \n",
       "\n",
       "         CancellationCode  Diverted  CarrierDelay WeatherDelay NASDelay  \\\n",
       "0                     NaN         0           NaN          NaN      NaN   \n",
       "1                     NaN         0           NaN          NaN      NaN   \n",
       "2                     NaN         0           NaN          NaN      NaN   \n",
       "3                     NaN         0           NaN          NaN      NaN   \n",
       "4                     NaN         0           NaN          NaN      NaN   \n",
       "...                   ...       ...           ...          ...      ...   \n",
       "3570293               NaN         0           0.0          0.0      0.0   \n",
       "3570294               NaN         0           0.0          0.0      0.0   \n",
       "3570295               NaN         0           0.0          0.0      0.0   \n",
       "3570296               NaN         0           0.0          0.0      0.0   \n",
       "3570297               NaN         0           0.0          0.0      0.0   \n",
       "\n",
       "         SecurityDelay  LateAircraftDelay  \n",
       "0                  NaN                NaN  \n",
       "1                  NaN                NaN  \n",
       "2                  NaN                NaN  \n",
       "3                  NaN                NaN  \n",
       "4                  NaN                NaN  \n",
       "...                ...                ...  \n",
       "3570293            0.0                0.0  \n",
       "3570294            0.0                0.0  \n",
       "3570295            0.0                0.0  \n",
       "3570296            0.0                0.0  \n",
       "3570297            0.0                0.0  \n",
       "\n",
       "[10379203 rows x 29 columns]"
      ]
     },
     "execution_count": 4,
     "metadata": {},
     "output_type": "execute_result"
    }
   ],
   "source": [
    "frames=[airline2003,airline2004,airline2005]\n",
    "df=pd.concat(frames)\n",
    "df"
   ]
  },
  {
   "cell_type": "code",
   "execution_count": 5,
   "id": "f8e3897b",
   "metadata": {},
   "outputs": [
    {
     "data": {
      "text/plain": [
       "Index(['Year', 'Month', 'DayofMonth', 'DayOfWeek', 'DepTime', 'CRSDepTime',\n",
       "       'ArrTime', 'CRSArrTime', 'UniqueCarrier', 'FlightNum', 'TailNum',\n",
       "       'ActualElapsedTime', 'CRSElapsedTime', 'AirTime', 'ArrDelay',\n",
       "       'DepDelay', 'Origin', 'Dest', 'Distance', 'TaxiIn', 'TaxiOut',\n",
       "       'Cancelled', 'CancellationCode', 'Diverted', 'CarrierDelay',\n",
       "       'WeatherDelay', 'NASDelay', 'SecurityDelay', 'LateAircraftDelay'],\n",
       "      dtype='object')"
      ]
     },
     "execution_count": 5,
     "metadata": {},
     "output_type": "execute_result"
    }
   ],
   "source": [
    "#Getting the column names in dataframe\n",
    "df.columns"
   ]
  },
  {
   "cell_type": "code",
   "execution_count": null,
   "id": "4c92f467",
   "metadata": {},
   "outputs": [],
   "source": []
  },
  {
   "cell_type": "markdown",
   "id": "764f8405",
   "metadata": {},
   "source": [
    "### 1) Best time of the day to minimise delays"
   ]
  },
  {
   "cell_type": "code",
   "execution_count": 6,
   "id": "d0a5fe53",
   "metadata": {},
   "outputs": [],
   "source": [
    "#sorting out datas with cancelled=0, such that it will sort out the flights that were working\n",
    "df=df[(df['Cancelled'] == 0)]"
   ]
  },
  {
   "cell_type": "code",
   "execution_count": 7,
   "id": "73dcb1b1",
   "metadata": {},
   "outputs": [],
   "source": [
    "# function to convert concatenated hours and minutes into hh:mm format\n",
    "def convert_to_time(x):\n",
    "    try:\n",
    "        if x != 0 or x != np.NAN:\n",
    "            if str(int(x))[:-2].zfill(2) == '24':\n",
    "                hour = '00'\n",
    "            else:\n",
    "                hour = str(int(x))[:-2].zfill(2)\n",
    "\n",
    "        minutes = str(int(x))[-2:].zfill(2)\n",
    "        time_format = f\"{hour}:{minutes}\"\n",
    "        return time_format\n",
    "    \n",
    "    except Exception as e:\n",
    "        pass"
   ]
  },
  {
   "cell_type": "code",
   "execution_count": null,
   "id": "3bdf0ccb",
   "metadata": {},
   "outputs": [],
   "source": []
  },
  {
   "cell_type": "code",
   "execution_count": 8,
   "id": "05992965",
   "metadata": {},
   "outputs": [
    {
     "name": "stderr",
     "output_type": "stream",
     "text": [
      "C:\\Users\\juhyu\\AppData\\Local\\Temp/ipykernel_1776/610405953.py:2: SettingWithCopyWarning: \n",
      "A value is trying to be set on a copy of a slice from a DataFrame.\n",
      "Try using .loc[row_indexer,col_indexer] = value instead\n",
      "\n",
      "See the caveats in the documentation: https://pandas.pydata.org/pandas-docs/stable/user_guide/indexing.html#returning-a-view-versus-a-copy\n",
      "  df['DepTime'] = df['DepTime'].dropna().apply(convert_to_time)\n",
      "C:\\Users\\juhyu\\AppData\\Local\\Temp/ipykernel_1776/610405953.py:3: SettingWithCopyWarning: \n",
      "A value is trying to be set on a copy of a slice from a DataFrame.\n",
      "Try using .loc[row_indexer,col_indexer] = value instead\n",
      "\n",
      "See the caveats in the documentation: https://pandas.pydata.org/pandas-docs/stable/user_guide/indexing.html#returning-a-view-versus-a-copy\n",
      "  df['CRSDepTime'] = df['CRSDepTime'].dropna().apply(convert_to_time)\n"
     ]
    }
   ],
   "source": [
    "# Extract/Convert time\n",
    "df['DepTime'] = df['DepTime'].dropna().apply(convert_to_time)\n",
    "df['CRSDepTime'] = df['CRSDepTime'].dropna().apply(convert_to_time)"
   ]
  },
  {
   "cell_type": "code",
   "execution_count": 9,
   "id": "abfe2ebb",
   "metadata": {
    "scrolled": true
   },
   "outputs": [
    {
     "data": {
      "text/plain": [
       "0"
      ]
     },
     "execution_count": 9,
     "metadata": {},
     "output_type": "execute_result"
    }
   ],
   "source": [
    "df['DepTime'].isna().sum()\n",
    "df['CRSDepTime'].isna().sum()"
   ]
  },
  {
   "cell_type": "code",
   "execution_count": 10,
   "id": "23f9272f",
   "metadata": {},
   "outputs": [
    {
     "name": "stderr",
     "output_type": "stream",
     "text": [
      "C:\\Users\\juhyu\\AppData\\Local\\Temp/ipykernel_1776/731290861.py:2: SettingWithCopyWarning: \n",
      "A value is trying to be set on a copy of a slice from a DataFrame.\n",
      "Try using .loc[row_indexer,col_indexer] = value instead\n",
      "\n",
      "See the caveats in the documentation: https://pandas.pydata.org/pandas-docs/stable/user_guide/indexing.html#returning-a-view-versus-a-copy\n",
      "  df['DepHour'] = df['DepTime'].astype(str).apply(lambda x: x[:2])\n"
     ]
    }
   ],
   "source": [
    "# Extract the hour\n",
    "df['DepHour'] = df['DepTime'].astype(str).apply(lambda x: x[:2])"
   ]
  },
  {
   "cell_type": "code",
   "execution_count": 11,
   "id": "e9d07aaf",
   "metadata": {},
   "outputs": [
    {
     "data": {
      "text/plain": [
       "array(['16', '10', '17', '18', '14', '13', '15', '19', '20', '21', '11',\n",
       "       '06', '08', '07', '12', '09', '23', '00', '05', '22', '01', '02',\n",
       "       '04', '03', '25', '27', '26', '28'], dtype=object)"
      ]
     },
     "execution_count": 11,
     "metadata": {},
     "output_type": "execute_result"
    }
   ],
   "source": [
    "df['DepHour'].unique()"
   ]
  },
  {
   "cell_type": "code",
   "execution_count": 12,
   "id": "755d0ea0",
   "metadata": {},
   "outputs": [
    {
     "data": {
      "text/plain": [
       "pandas.core.series.Series"
      ]
     },
     "execution_count": 12,
     "metadata": {},
     "output_type": "execute_result"
    }
   ],
   "source": [
    "type(df['DepHour'])"
   ]
  },
  {
   "cell_type": "code",
   "execution_count": 13,
   "id": "7fb25f53",
   "metadata": {
    "scrolled": true
   },
   "outputs": [],
   "source": [
    "df=df.loc[df['DepHour']<='24']"
   ]
  },
  {
   "cell_type": "code",
   "execution_count": 14,
   "id": "87c789a4",
   "metadata": {
    "scrolled": true
   },
   "outputs": [
    {
     "data": {
      "text/html": [
       "<div>\n",
       "<style scoped>\n",
       "    .dataframe tbody tr th:only-of-type {\n",
       "        vertical-align: middle;\n",
       "    }\n",
       "\n",
       "    .dataframe tbody tr th {\n",
       "        vertical-align: top;\n",
       "    }\n",
       "\n",
       "    .dataframe thead th {\n",
       "        text-align: right;\n",
       "    }\n",
       "</style>\n",
       "<table border=\"1\" class=\"dataframe\">\n",
       "  <thead>\n",
       "    <tr style=\"text-align: right;\">\n",
       "      <th></th>\n",
       "      <th>DepTime</th>\n",
       "      <th>CRSDepTime</th>\n",
       "      <th>DepHour</th>\n",
       "    </tr>\n",
       "  </thead>\n",
       "  <tbody>\n",
       "    <tr>\n",
       "      <th>0</th>\n",
       "      <td>16:54</td>\n",
       "      <td>16:55</td>\n",
       "      <td>16</td>\n",
       "    </tr>\n",
       "    <tr>\n",
       "      <th>1</th>\n",
       "      <td>10:33</td>\n",
       "      <td>10:35</td>\n",
       "      <td>10</td>\n",
       "    </tr>\n",
       "    <tr>\n",
       "      <th>2</th>\n",
       "      <td>10:31</td>\n",
       "      <td>10:35</td>\n",
       "      <td>10</td>\n",
       "    </tr>\n",
       "    <tr>\n",
       "      <th>3</th>\n",
       "      <td>10:35</td>\n",
       "      <td>10:35</td>\n",
       "      <td>10</td>\n",
       "    </tr>\n",
       "    <tr>\n",
       "      <th>4</th>\n",
       "      <td>17:13</td>\n",
       "      <td>17:10</td>\n",
       "      <td>17</td>\n",
       "    </tr>\n",
       "    <tr>\n",
       "      <th>...</th>\n",
       "      <td>...</td>\n",
       "      <td>...</td>\n",
       "      <td>...</td>\n",
       "    </tr>\n",
       "    <tr>\n",
       "      <th>3570293</th>\n",
       "      <td>07:58</td>\n",
       "      <td>07:59</td>\n",
       "      <td>07</td>\n",
       "    </tr>\n",
       "    <tr>\n",
       "      <th>3570294</th>\n",
       "      <td>12:56</td>\n",
       "      <td>13:00</td>\n",
       "      <td>12</td>\n",
       "    </tr>\n",
       "    <tr>\n",
       "      <th>3570295</th>\n",
       "      <td>16:52</td>\n",
       "      <td>16:55</td>\n",
       "      <td>16</td>\n",
       "    </tr>\n",
       "    <tr>\n",
       "      <th>3570296</th>\n",
       "      <td>15:07</td>\n",
       "      <td>15:11</td>\n",
       "      <td>15</td>\n",
       "    </tr>\n",
       "    <tr>\n",
       "      <th>3570297</th>\n",
       "      <td>13:45</td>\n",
       "      <td>13:44</td>\n",
       "      <td>13</td>\n",
       "    </tr>\n",
       "  </tbody>\n",
       "</table>\n",
       "<p>10197230 rows × 3 columns</p>\n",
       "</div>"
      ],
      "text/plain": [
       "        DepTime CRSDepTime DepHour\n",
       "0         16:54      16:55      16\n",
       "1         10:33      10:35      10\n",
       "2         10:31      10:35      10\n",
       "3         10:35      10:35      10\n",
       "4         17:13      17:10      17\n",
       "...         ...        ...     ...\n",
       "3570293   07:58      07:59      07\n",
       "3570294   12:56      13:00      12\n",
       "3570295   16:52      16:55      16\n",
       "3570296   15:07      15:11      15\n",
       "3570297   13:45      13:44      13\n",
       "\n",
       "[10197230 rows x 3 columns]"
      ]
     },
     "execution_count": 14,
     "metadata": {},
     "output_type": "execute_result"
    }
   ],
   "source": [
    "df[['DepTime','CRSDepTime','DepHour']]"
   ]
  },
  {
   "cell_type": "code",
   "execution_count": 15,
   "id": "3583f47b",
   "metadata": {},
   "outputs": [],
   "source": [
    "# Plot the distribution of delay over the day by hours, compared to Dephour."
   ]
  },
  {
   "cell_type": "markdown",
   "id": "93dd0618",
   "metadata": {},
   "source": [
    "Dep hour is divided into three timezones; morning:04AM-11AM,afternoon:12PM-19PM,night:20PM-03AM"
   ]
  },
  {
   "cell_type": "code",
   "execution_count": 16,
   "id": "19c95764",
   "metadata": {},
   "outputs": [
    {
     "data": {
      "text/plain": [
       "0          16\n",
       "1          10\n",
       "2          10\n",
       "3          10\n",
       "4          17\n",
       "           ..\n",
       "3570293     7\n",
       "3570294    12\n",
       "3570295    16\n",
       "3570296    15\n",
       "3570297    13\n",
       "Name: DepHour, Length: 10197230, dtype: int32"
      ]
     },
     "execution_count": 16,
     "metadata": {},
     "output_type": "execute_result"
    }
   ],
   "source": [
    "timing = []\n",
    "df['DepHour'].astype(int)"
   ]
  },
  {
   "cell_type": "code",
   "execution_count": 17,
   "id": "a4430d92",
   "metadata": {},
   "outputs": [],
   "source": [
    "for x in df['DepHour']:\n",
    "    if int(x) < 12 and int(x) >= 4:\n",
    "        timing.append(\"morning\")\n",
    "    elif int(x)>24:\n",
    "        timing.append(\"morning\")\n",
    "    elif int(x) >= 12 and int(x) < 20:\n",
    "        timing.append(\"afternoon\")\n",
    "    else:\n",
    "        timing.append(\"night\")\n",
    "df['TIMING'] = timing"
   ]
  },
  {
   "cell_type": "code",
   "execution_count": 18,
   "id": "19255047",
   "metadata": {},
   "outputs": [
    {
     "data": {
      "text/plain": [
       "afternoon    5063474\n",
       "morning      4032831\n",
       "night        1100925\n",
       "Name: TIMING, dtype: int64"
      ]
     },
     "execution_count": 18,
     "metadata": {},
     "output_type": "execute_result"
    }
   ],
   "source": [
    "df['TIMING'].value_counts()"
   ]
  },
  {
   "cell_type": "code",
   "execution_count": 19,
   "id": "9517bc5d",
   "metadata": {},
   "outputs": [
    {
     "data": {
      "text/html": [
       "<div>\n",
       "<style scoped>\n",
       "    .dataframe tbody tr th:only-of-type {\n",
       "        vertical-align: middle;\n",
       "    }\n",
       "\n",
       "    .dataframe tbody tr th {\n",
       "        vertical-align: top;\n",
       "    }\n",
       "\n",
       "    .dataframe thead th {\n",
       "        text-align: right;\n",
       "    }\n",
       "</style>\n",
       "<table border=\"1\" class=\"dataframe\">\n",
       "  <thead>\n",
       "    <tr style=\"text-align: right;\">\n",
       "      <th></th>\n",
       "      <th>ArrDelay</th>\n",
       "    </tr>\n",
       "    <tr>\n",
       "      <th>TIMING</th>\n",
       "      <th></th>\n",
       "    </tr>\n",
       "  </thead>\n",
       "  <tbody>\n",
       "    <tr>\n",
       "      <th>afternoon</th>\n",
       "      <td>37071034.0</td>\n",
       "    </tr>\n",
       "    <tr>\n",
       "      <th>morning</th>\n",
       "      <td>-118741.0</td>\n",
       "    </tr>\n",
       "    <tr>\n",
       "      <th>night</th>\n",
       "      <td>22244297.0</td>\n",
       "    </tr>\n",
       "  </tbody>\n",
       "</table>\n",
       "</div>"
      ],
      "text/plain": [
       "             ArrDelay\n",
       "TIMING               \n",
       "afternoon  37071034.0\n",
       "morning     -118741.0\n",
       "night      22244297.0"
      ]
     },
     "execution_count": 19,
     "metadata": {},
     "output_type": "execute_result"
    }
   ],
   "source": [
    "df.groupby('TIMING')[['ArrDelay']].sum()"
   ]
  },
  {
   "cell_type": "code",
   "execution_count": null,
   "id": "7f9bdf78",
   "metadata": {},
   "outputs": [],
   "source": []
  },
  {
   "cell_type": "code",
   "execution_count": 20,
   "id": "388d9b6b",
   "metadata": {},
   "outputs": [],
   "source": [
    "df2=df[['ArrDelay','TIMING']]"
   ]
  },
  {
   "cell_type": "code",
   "execution_count": 21,
   "id": "b25523dd",
   "metadata": {},
   "outputs": [
    {
     "data": {
      "text/html": [
       "<div>\n",
       "<style scoped>\n",
       "    .dataframe tbody tr th:only-of-type {\n",
       "        vertical-align: middle;\n",
       "    }\n",
       "\n",
       "    .dataframe tbody tr th {\n",
       "        vertical-align: top;\n",
       "    }\n",
       "\n",
       "    .dataframe thead th {\n",
       "        text-align: right;\n",
       "    }\n",
       "</style>\n",
       "<table border=\"1\" class=\"dataframe\">\n",
       "  <thead>\n",
       "    <tr style=\"text-align: right;\">\n",
       "      <th></th>\n",
       "      <th>ArrDelay</th>\n",
       "    </tr>\n",
       "    <tr>\n",
       "      <th>TIMING</th>\n",
       "      <th></th>\n",
       "    </tr>\n",
       "  </thead>\n",
       "  <tbody>\n",
       "    <tr>\n",
       "      <th>afternoon</th>\n",
       "      <td>7.336491</td>\n",
       "    </tr>\n",
       "    <tr>\n",
       "      <th>morning</th>\n",
       "      <td>-0.029494</td>\n",
       "    </tr>\n",
       "    <tr>\n",
       "      <th>night</th>\n",
       "      <td>20.245868</td>\n",
       "    </tr>\n",
       "  </tbody>\n",
       "</table>\n",
       "</div>"
      ],
      "text/plain": [
       "            ArrDelay\n",
       "TIMING              \n",
       "afternoon   7.336491\n",
       "morning    -0.029494\n",
       "night      20.245868"
      ]
     },
     "execution_count": 21,
     "metadata": {},
     "output_type": "execute_result"
    }
   ],
   "source": [
    "df.groupby('TIMING')[['ArrDelay']].mean()"
   ]
  },
  {
   "cell_type": "code",
   "execution_count": 22,
   "id": "8214c87d",
   "metadata": {},
   "outputs": [
    {
     "data": {
      "image/png": "[encoded data removed]",
      "text/plain": [
       "<Figure size 1058.4x595.44 with 1 Axes>"
      ]
     },
     "metadata": {
      "needs_background": "light"
     },
     "output_type": "display_data"
    }
   ],
   "source": [
    "# Departure hour\n",
    "\n",
    "colors = ['#1B4D80', '#F46664']\n",
    "\n",
    "# plot \n",
    "barlist = df.groupby('TIMING')[['DepDelay','ArrDelay']].mean().plot.bar(\n",
    "    figsize=[14.70, 8.27], color=colors,stacked=True)\n",
    "\n",
    "# title, lables & legend\n",
    "plt.title(\"Distribution of delay over a day\", fontsize = 14, weight = \"bold\")\n",
    "plt.ylabel('Delay (min)', fontsize = 10, weight = \"bold\")\n",
    "plt.xlabel('Timing', fontsize = 10, weight = \"bold\")\n",
    "plt.xticks(rotation=360)\n",
    "\n",
    "plt.legend(['Departure Delay', 'Arrival Delay'], title=\"Delay\")\n",
    "plt.show()"
   ]
  },
  {
   "cell_type": "markdown",
   "id": "ab2c0611",
   "metadata": {},
   "source": [
    "##### Morning is the best timing to minimise delays for both departure and arrival delay."
   ]
  },
  {
   "cell_type": "code",
   "execution_count": null,
   "id": "1be6d5c5",
   "metadata": {},
   "outputs": [],
   "source": []
  },
  {
   "cell_type": "markdown",
   "id": "d3f608bb",
   "metadata": {},
   "source": [
    "### 2) Best day of week to minimise delays"
   ]
  },
  {
   "cell_type": "code",
   "execution_count": 23,
   "id": "5c6703f9",
   "metadata": {},
   "outputs": [
    {
     "data": {
      "text/html": [
       "<div>\n",
       "<style scoped>\n",
       "    .dataframe tbody tr th:only-of-type {\n",
       "        vertical-align: middle;\n",
       "    }\n",
       "\n",
       "    .dataframe tbody tr th {\n",
       "        vertical-align: top;\n",
       "    }\n",
       "\n",
       "    .dataframe thead th {\n",
       "        text-align: right;\n",
       "    }\n",
       "</style>\n",
       "<table border=\"1\" class=\"dataframe\">\n",
       "  <thead>\n",
       "    <tr style=\"text-align: right;\">\n",
       "      <th></th>\n",
       "      <th>DepTime</th>\n",
       "      <th>CRSDepTime</th>\n",
       "      <th>ArrTime</th>\n",
       "      <th>CRSArrTime</th>\n",
       "      <th>DayOfWeek</th>\n",
       "    </tr>\n",
       "  </thead>\n",
       "  <tbody>\n",
       "    <tr>\n",
       "      <th>0</th>\n",
       "      <td>16:54</td>\n",
       "      <td>16:55</td>\n",
       "      <td>1910.0</td>\n",
       "      <td>1913</td>\n",
       "      <td>4</td>\n",
       "    </tr>\n",
       "    <tr>\n",
       "      <th>1</th>\n",
       "      <td>10:33</td>\n",
       "      <td>10:35</td>\n",
       "      <td>1625.0</td>\n",
       "      <td>1634</td>\n",
       "      <td>3</td>\n",
       "    </tr>\n",
       "    <tr>\n",
       "      <th>2</th>\n",
       "      <td>10:31</td>\n",
       "      <td>10:35</td>\n",
       "      <td>1640.0</td>\n",
       "      <td>1634</td>\n",
       "      <td>5</td>\n",
       "    </tr>\n",
       "    <tr>\n",
       "      <th>3</th>\n",
       "      <td>10:35</td>\n",
       "      <td>10:35</td>\n",
       "      <td>1636.0</td>\n",
       "      <td>1634</td>\n",
       "      <td>7</td>\n",
       "    </tr>\n",
       "    <tr>\n",
       "      <th>4</th>\n",
       "      <td>17:13</td>\n",
       "      <td>17:10</td>\n",
       "      <td>1851.0</td>\n",
       "      <td>1847</td>\n",
       "      <td>3</td>\n",
       "    </tr>\n",
       "    <tr>\n",
       "      <th>...</th>\n",
       "      <td>...</td>\n",
       "      <td>...</td>\n",
       "      <td>...</td>\n",
       "      <td>...</td>\n",
       "      <td>...</td>\n",
       "    </tr>\n",
       "    <tr>\n",
       "      <th>3570293</th>\n",
       "      <td>07:58</td>\n",
       "      <td>07:59</td>\n",
       "      <td>1247.0</td>\n",
       "      <td>1241</td>\n",
       "      <td>4</td>\n",
       "    </tr>\n",
       "    <tr>\n",
       "      <th>3570294</th>\n",
       "      <td>12:56</td>\n",
       "      <td>13:00</td>\n",
       "      <td>1306.0</td>\n",
       "      <td>1311</td>\n",
       "      <td>4</td>\n",
       "    </tr>\n",
       "    <tr>\n",
       "      <th>3570295</th>\n",
       "      <td>16:52</td>\n",
       "      <td>16:55</td>\n",
       "      <td>1815.0</td>\n",
       "      <td>1837</td>\n",
       "      <td>4</td>\n",
       "    </tr>\n",
       "    <tr>\n",
       "      <th>3570296</th>\n",
       "      <td>15:07</td>\n",
       "      <td>15:11</td>\n",
       "      <td>1641.0</td>\n",
       "      <td>1649</td>\n",
       "      <td>4</td>\n",
       "    </tr>\n",
       "    <tr>\n",
       "      <th>3570297</th>\n",
       "      <td>13:45</td>\n",
       "      <td>13:44</td>\n",
       "      <td>1621.0</td>\n",
       "      <td>1614</td>\n",
       "      <td>4</td>\n",
       "    </tr>\n",
       "  </tbody>\n",
       "</table>\n",
       "<p>10197230 rows × 5 columns</p>\n",
       "</div>"
      ],
      "text/plain": [
       "        DepTime CRSDepTime  ArrTime  CRSArrTime  DayOfWeek\n",
       "0         16:54      16:55   1910.0        1913          4\n",
       "1         10:33      10:35   1625.0        1634          3\n",
       "2         10:31      10:35   1640.0        1634          5\n",
       "3         10:35      10:35   1636.0        1634          7\n",
       "4         17:13      17:10   1851.0        1847          3\n",
       "...         ...        ...      ...         ...        ...\n",
       "3570293   07:58      07:59   1247.0        1241          4\n",
       "3570294   12:56      13:00   1306.0        1311          4\n",
       "3570295   16:52      16:55   1815.0        1837          4\n",
       "3570296   15:07      15:11   1641.0        1649          4\n",
       "3570297   13:45      13:44   1621.0        1614          4\n",
       "\n",
       "[10197230 rows x 5 columns]"
      ]
     },
     "execution_count": 23,
     "metadata": {},
     "output_type": "execute_result"
    }
   ],
   "source": [
    "df[['DepTime','CRSDepTime','ArrTime','CRSArrTime','DayOfWeek']]"
   ]
  },
  {
   "cell_type": "code",
   "execution_count": 24,
   "id": "466265c9",
   "metadata": {},
   "outputs": [
    {
     "data": {
      "text/plain": [
       "[1, 2, 3, 4, 5, 6, 7]"
      ]
     },
     "execution_count": 24,
     "metadata": {},
     "output_type": "execute_result"
    }
   ],
   "source": [
    "#converting to list of days\n",
    "days=list(df.DayOfWeek.unique())\n",
    "\n",
    "#arranging days in ascending order\n",
    "days.sort()\n",
    "days"
   ]
  },
  {
   "cell_type": "markdown",
   "id": "25517926",
   "metadata": {},
   "source": [
    "1=Monday,7=Sunday"
   ]
  },
  {
   "cell_type": "code",
   "execution_count": 25,
   "id": "300fafce",
   "metadata": {},
   "outputs": [],
   "source": [
    "df['DepDelay'] = df['DepDelay'].astype('float')"
   ]
  },
  {
   "cell_type": "code",
   "execution_count": 26,
   "id": "8f80df34",
   "metadata": {},
   "outputs": [],
   "source": [
    "df['ArrDelay'] = df['ArrDelay'].astype('float')"
   ]
  },
  {
   "cell_type": "code",
   "execution_count": 27,
   "id": "3f96bc21",
   "metadata": {},
   "outputs": [
    {
     "data": {
      "image/png": "[encoded data removed]",
      "text/plain": [
       "<Figure size 1058.4x595.44 with 1 Axes>"
      ]
     },
     "metadata": {
      "needs_background": "light"
     },
     "output_type": "display_data"
    }
   ],
   "source": [
    "# plot\n",
    "colors=['#1B4D80', '#F46664']\n",
    "\n",
    "df.groupby('DayOfWeek')[['DepDelay','ArrDelay']].mean().plot.line(\n",
    "    figsize=[14.70, 8.27], color=colors)\n",
    "                                                                \n",
    "# title, lables & legend\n",
    "plt.title(\"Distribution of delay over days of a week\", fontsize = 14, weight = \"bold\")\n",
    "plt.ylabel('Delay (min)', fontsize = 10, weight = \"bold\")\n",
    "plt.xlabel('Day of Week', fontsize = 10, weight = \"bold\")\n",
    "\n",
    "plt.legend(['Departure Delay', 'Arrival Delay'], title=\"Delay\")\n",
    "plt.show()"
   ]
  },
  {
   "cell_type": "markdown",
   "id": "e56f45b1",
   "metadata": {},
   "source": [
    "##### Best day of week to minimise delays is Saturday for both departure and arrival delay. "
   ]
  },
  {
   "cell_type": "code",
   "execution_count": null,
   "id": "5ab4e317",
   "metadata": {},
   "outputs": [],
   "source": []
  },
  {
   "cell_type": "markdown",
   "id": "f3f31be2",
   "metadata": {},
   "source": [
    "### 3) Best time of year to minimise delays"
   ]
  },
  {
   "cell_type": "code",
   "execution_count": 28,
   "id": "9a378f7c",
   "metadata": {},
   "outputs": [],
   "source": [
    "# We are going to create a column in dataframe that can divide the months into quarters of the year."
   ]
  },
  {
   "cell_type": "markdown",
   "id": "d2678f51",
   "metadata": {},
   "source": [
    "1st quarter(Q1): JAN,FEB,MAR\n",
    "2nd quarter(Q2): APR,MAY,JUNE\n",
    "3rd quarter(Q3): JULY,AUG,SEP\n",
    "4th quarter(Q4): OCT,NOV,DEC"
   ]
  },
  {
   "cell_type": "code",
   "execution_count": 29,
   "id": "9dac0c32",
   "metadata": {},
   "outputs": [
    {
     "data": {
      "text/plain": [
       "array([ 1,  2,  3,  4,  5,  6,  7,  8,  9, 10, 11, 12], dtype=int64)"
      ]
     },
     "execution_count": 29,
     "metadata": {},
     "output_type": "execute_result"
    }
   ],
   "source": [
    "#checking the \n",
    "df['Month'].unique()"
   ]
  },
  {
   "cell_type": "code",
   "execution_count": 30,
   "id": "4b994e61",
   "metadata": {},
   "outputs": [],
   "source": [
    "#Adding quarter column\n",
    "quarter=[1,4,7,10,13]\n",
    "labels=['Q1','Q2','Q3','Q4']\n",
    "df['Quarter']=pd.cut(df['Month'],bins=quarter,labels=labels,right=False)"
   ]
  },
  {
   "cell_type": "code",
   "execution_count": 31,
   "id": "9391df88",
   "metadata": {},
   "outputs": [
    {
     "data": {
      "text/html": [
       "<div>\n",
       "<style scoped>\n",
       "    .dataframe tbody tr th:only-of-type {\n",
       "        vertical-align: middle;\n",
       "    }\n",
       "\n",
       "    .dataframe tbody tr th {\n",
       "        vertical-align: top;\n",
       "    }\n",
       "\n",
       "    .dataframe thead th {\n",
       "        text-align: right;\n",
       "    }\n",
       "</style>\n",
       "<table border=\"1\" class=\"dataframe\">\n",
       "  <thead>\n",
       "    <tr style=\"text-align: right;\">\n",
       "      <th></th>\n",
       "      <th>Month</th>\n",
       "      <th>Quarter</th>\n",
       "      <th>DepDelay</th>\n",
       "      <th>ArrDelay</th>\n",
       "    </tr>\n",
       "  </thead>\n",
       "  <tbody>\n",
       "    <tr>\n",
       "      <th>302390</th>\n",
       "      <td>2</td>\n",
       "      <td>Q1</td>\n",
       "      <td>4.0</td>\n",
       "      <td>-34.0</td>\n",
       "    </tr>\n",
       "    <tr>\n",
       "      <th>1353452</th>\n",
       "      <td>6</td>\n",
       "      <td>Q2</td>\n",
       "      <td>12.0</td>\n",
       "      <td>10.0</td>\n",
       "    </tr>\n",
       "    <tr>\n",
       "      <th>1887800</th>\n",
       "      <td>8</td>\n",
       "      <td>Q3</td>\n",
       "      <td>47.0</td>\n",
       "      <td>44.0</td>\n",
       "    </tr>\n",
       "    <tr>\n",
       "      <th>2328331</th>\n",
       "      <td>8</td>\n",
       "      <td>Q3</td>\n",
       "      <td>0.0</td>\n",
       "      <td>0.0</td>\n",
       "    </tr>\n",
       "    <tr>\n",
       "      <th>2245024</th>\n",
       "      <td>9</td>\n",
       "      <td>Q3</td>\n",
       "      <td>-2.0</td>\n",
       "      <td>-9.0</td>\n",
       "    </tr>\n",
       "    <tr>\n",
       "      <th>1275923</th>\n",
       "      <td>5</td>\n",
       "      <td>Q2</td>\n",
       "      <td>-5.0</td>\n",
       "      <td>-1.0</td>\n",
       "    </tr>\n",
       "    <tr>\n",
       "      <th>1728590</th>\n",
       "      <td>7</td>\n",
       "      <td>Q3</td>\n",
       "      <td>-5.0</td>\n",
       "      <td>-8.0</td>\n",
       "    </tr>\n",
       "    <tr>\n",
       "      <th>1418328</th>\n",
       "      <td>6</td>\n",
       "      <td>Q2</td>\n",
       "      <td>-9.0</td>\n",
       "      <td>-9.0</td>\n",
       "    </tr>\n",
       "    <tr>\n",
       "      <th>1310747</th>\n",
       "      <td>5</td>\n",
       "      <td>Q2</td>\n",
       "      <td>-4.0</td>\n",
       "      <td>-8.0</td>\n",
       "    </tr>\n",
       "    <tr>\n",
       "      <th>2228230</th>\n",
       "      <td>9</td>\n",
       "      <td>Q3</td>\n",
       "      <td>-8.0</td>\n",
       "      <td>1.0</td>\n",
       "    </tr>\n",
       "    <tr>\n",
       "      <th>2965477</th>\n",
       "      <td>10</td>\n",
       "      <td>Q4</td>\n",
       "      <td>2.0</td>\n",
       "      <td>6.0</td>\n",
       "    </tr>\n",
       "    <tr>\n",
       "      <th>88551</th>\n",
       "      <td>1</td>\n",
       "      <td>Q1</td>\n",
       "      <td>-1.0</td>\n",
       "      <td>-7.0</td>\n",
       "    </tr>\n",
       "    <tr>\n",
       "      <th>327279</th>\n",
       "      <td>2</td>\n",
       "      <td>Q1</td>\n",
       "      <td>0.0</td>\n",
       "      <td>-2.0</td>\n",
       "    </tr>\n",
       "    <tr>\n",
       "      <th>2810085</th>\n",
       "      <td>11</td>\n",
       "      <td>Q4</td>\n",
       "      <td>-5.0</td>\n",
       "      <td>-7.0</td>\n",
       "    </tr>\n",
       "    <tr>\n",
       "      <th>2808374</th>\n",
       "      <td>10</td>\n",
       "      <td>Q4</td>\n",
       "      <td>-2.0</td>\n",
       "      <td>-5.0</td>\n",
       "    </tr>\n",
       "    <tr>\n",
       "      <th>2143543</th>\n",
       "      <td>8</td>\n",
       "      <td>Q3</td>\n",
       "      <td>-2.0</td>\n",
       "      <td>-9.0</td>\n",
       "    </tr>\n",
       "    <tr>\n",
       "      <th>35294</th>\n",
       "      <td>1</td>\n",
       "      <td>Q1</td>\n",
       "      <td>31.0</td>\n",
       "      <td>25.0</td>\n",
       "    </tr>\n",
       "    <tr>\n",
       "      <th>3497647</th>\n",
       "      <td>12</td>\n",
       "      <td>Q4</td>\n",
       "      <td>-1.0</td>\n",
       "      <td>-15.0</td>\n",
       "    </tr>\n",
       "    <tr>\n",
       "      <th>2098616</th>\n",
       "      <td>8</td>\n",
       "      <td>Q3</td>\n",
       "      <td>-4.0</td>\n",
       "      <td>7.0</td>\n",
       "    </tr>\n",
       "    <tr>\n",
       "      <th>2432233</th>\n",
       "      <td>9</td>\n",
       "      <td>Q3</td>\n",
       "      <td>-3.0</td>\n",
       "      <td>-14.0</td>\n",
       "    </tr>\n",
       "  </tbody>\n",
       "</table>\n",
       "</div>"
      ],
      "text/plain": [
       "         Month Quarter  DepDelay  ArrDelay\n",
       "302390       2      Q1       4.0     -34.0\n",
       "1353452      6      Q2      12.0      10.0\n",
       "1887800      8      Q3      47.0      44.0\n",
       "2328331      8      Q3       0.0       0.0\n",
       "2245024      9      Q3      -2.0      -9.0\n",
       "1275923      5      Q2      -5.0      -1.0\n",
       "1728590      7      Q3      -5.0      -8.0\n",
       "1418328      6      Q2      -9.0      -9.0\n",
       "1310747      5      Q2      -4.0      -8.0\n",
       "2228230      9      Q3      -8.0       1.0\n",
       "2965477     10      Q4       2.0       6.0\n",
       "88551        1      Q1      -1.0      -7.0\n",
       "327279       2      Q1       0.0      -2.0\n",
       "2810085     11      Q4      -5.0      -7.0\n",
       "2808374     10      Q4      -2.0      -5.0\n",
       "2143543      8      Q3      -2.0      -9.0\n",
       "35294        1      Q1      31.0      25.0\n",
       "3497647     12      Q4      -1.0     -15.0\n",
       "2098616      8      Q3      -4.0       7.0\n",
       "2432233      9      Q3      -3.0     -14.0"
      ]
     },
     "execution_count": 31,
     "metadata": {},
     "output_type": "execute_result"
    }
   ],
   "source": [
    "#extracting 20 samples to check if Quarter is well applied to the dataframe\n",
    "df[['Month','Quarter','DepDelay','ArrDelay']].sample(20)"
   ]
  },
  {
   "cell_type": "code",
   "execution_count": 32,
   "id": "9e3f3593",
   "metadata": {},
   "outputs": [
    {
     "data": {
      "image/png": "[encoded data removed]",
      "text/plain": [
       "<Figure size 1058.4x595.44 with 1 Axes>"
      ]
     },
     "metadata": {
      "needs_background": "light"
     },
     "output_type": "display_data"
    }
   ],
   "source": [
    "# plot\n",
    "df.groupby('Quarter')[['DepDelay','ArrDelay']].mean().plot.bar(\n",
    "    figsize=[14.70, 8.27], color=colors,stacked=True)\n",
    "                                                                \n",
    "# title, lables & legend\n",
    "plt.title(\"Distribution of delay over quarters in a year\", fontsize = 14, weight = \"bold\")\n",
    "plt.ylabel('Delay (min)', fontsize = 10, weight = \"bold\")\n",
    "plt.xlabel('Quarter of a Year', fontsize = 10, weight = \"bold\")\n",
    "plt.xticks(rotation=360)\n",
    "\n",
    "plt.legend(['Departure Delay', 'Arrival Delay'], title=\"Delay\")\n",
    "plt.show()"
   ]
  },
  {
   "cell_type": "markdown",
   "id": "d995659e",
   "metadata": {},
   "source": [
    "##### Second quarter of the year(Q2), which includes April,May and June, is the time of the year where both departure and arrival delays are the least. "
   ]
  },
  {
   "cell_type": "code",
   "execution_count": null,
   "id": "e67994f9",
   "metadata": {},
   "outputs": [],
   "source": []
  },
  {
   "cell_type": "code",
   "execution_count": null,
   "id": "03dc6cac",
   "metadata": {},
   "outputs": [],
   "source": []
  }
 ],
 "metadata": {
  "kernelspec": {
   "display_name": "Python 3 (ipykernel)",
   "language": "python",
   "name": "python3"
  },
  "language_info": {
   "codemirror_mode": {
    "name": "ipython",
    "version": 3
   },
   "file_extension": ".py",
   "mimetype": "text/x-python",
   "name": "python",
   "nbconvert_exporter": "python",
   "pygments_lexer": "ipython3",
   "version": "3.9.7"
  }
 },
 "nbformat": 4,
 "nbformat_minor": 5
}
